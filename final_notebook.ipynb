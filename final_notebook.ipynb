{
 "cells": [
  {
   "cell_type": "markdown",
   "metadata": {},
   "source": [
    "# Apple Advertising on Twitter"
   ]
  },
  {
   "attachments": {
    "twitter-apple.jpg": {
     "image/jpeg": "[encoded data removed]"
    }
   },
   "cell_type": "markdown",
   "metadata": {},
   "source": [
    "![twitter-apple.jpg](attachment:twitter-apple.jpg)\n"
   ]
  },
  {
   "cell_type": "markdown",
   "metadata": {},
   "source": [
    "Presented by: Mustafa Furkan Kolanci, Seraj Khazei, Isaac Barrera\n",
    "\n",
    "Date: 11/18/2021\n",
    "\n",
    "Instructor: Angelica Spratley\n",
    "\n",
    "github link: https://github.com/mfurkankolanci/dsc_project_4"
   ]
  },
  {
   "cell_type": "markdown",
   "metadata": {},
   "source": [
    "## Overview"
   ]
  },
  {
   "cell_type": "markdown",
   "metadata": {},
   "source": [
    "In this project, we are looking at user's tweets, the product in question and the sentiment toward the product. The dataset includes more than 9,000 tweets with product and sentiment information attached. This dataset is well-suited for the business problem, as the goal is to provide Apple advertising team with a model that can predict the sentiment of tweets. \n",
    "\n",
    "For data preparation, we first grouped all the products under two labels, Apple and Google. This was done as Apple and Google products were scattered in the dataset and had to be regrouped. Then, we used regex to get rid of unimportant characters in the tweets. After that, we tokenize the tweets to split each tweets into its respective words so that each word is a feature in the model. We also remove stopwords as they provide little to no sentiment value to the tweets. Lemmatization is performed to group words with the same meaning together as one word. TF-IDF is applied in order to assign each word in each tweet a numeric value based on its importance across all tweets. Finally, random oversampling is applied in order to eliminate the class imbalance observed in the target variable (sentiment). We used pandas to perform data filtering and visualization, nltk to perform text preprocessing, imblearn for oversampling and sklearn for TF-IDF.  \n",
    "\n",
    "For modeling, we utilized the sklearn's LogisticRegression, DecisionTree and RandomForestClassifier methods. We tuned our models using GridSearchCV also provided by sklearn. \n",
    "\n",
    "Our final model has an accuracy of 63%, which means that it correctly identifies the sentiment of tweets 63% of the time. We used cross validation and the test set accuracy scores in order to validate our model performance."
   ]
  },
  {
   "cell_type": "markdown",
   "metadata": {},
   "source": [
    "## Business Understanding"
   ]
  },
  {
   "cell_type": "markdown",
   "metadata": {},
   "source": [
    "As data scientists working in Twitter, we were approached by a stakeholder, Apple's advertising team. They have noticed that some Twitter users have not had positive experiences with Apple products. In order to not lose those customers, they would like to have targeted ads towards those users. Our stakeholder is also interested in tweets about Google and they would like to turn this into their advantage by converting these users into Apple customers. Therefore, they have asked our team to generate a model that performs sentiment analysis in order to categorize tweets about Apple and Google as positive, neutral and negative, so that the stakeholder knowns which users to target with their ads."
   ]
  },
  {
   "cell_type": "markdown",
   "metadata": {},
   "source": [
    "## Data Understanding"
   ]
  },
  {
   "cell_type": "markdown",
   "metadata": {},
   "source": [
    "The dataset is from the year 2013 and includes more 9,000 tweets. There are three columns, the first column includes the tweet text, the second column is the subject of the tweet and third column is the emotion of the tweet. "
   ]
  },
  {
   "cell_type": "markdown",
   "metadata": {},
   "source": [
    "## Data Preparation and Text Preprocessing"
   ]
  },
  {
   "cell_type": "markdown",
   "metadata": {},
   "source": [
    "Let's start by importing modules necessary for analysis and reading in the data."
   ]
  },
  {
   "cell_type": "code",
   "execution_count": 1,
   "metadata": {},
   "outputs": [],
   "source": [
    "import pandas as pd\n",
    "import numpy as np\n",
    "import warnings\n",
    "warnings.filterwarnings(\"ignore\")"
   ]
  },
  {
   "cell_type": "code",
   "execution_count": 2,
   "metadata": {},
   "outputs": [
    {
     "data": {
      "text/html": [
       "<div>\n",
       "<style scoped>\n",
       "    .dataframe tbody tr th:only-of-type {\n",
       "        vertical-align: middle;\n",
       "    }\n",
       "\n",
       "    .dataframe tbody tr th {\n",
       "        vertical-align: top;\n",
       "    }\n",
       "\n",
       "    .dataframe thead th {\n",
       "        text-align: right;\n",
       "    }\n",
       "</style>\n",
       "<table border=\"1\" class=\"dataframe\">\n",
       "  <thead>\n",
       "    <tr style=\"text-align: right;\">\n",
       "      <th></th>\n",
       "      <th>tweet_text</th>\n",
       "      <th>emotion_in_tweet_is_directed_at</th>\n",
       "      <th>is_there_an_emotion_directed_at_a_brand_or_product</th>\n",
       "    </tr>\n",
       "  </thead>\n",
       "  <tbody>\n",
       "    <tr>\n",
       "      <th>0</th>\n",
       "      <td>.@wesley83 I have a 3G iPhone. After 3 hrs twe...</td>\n",
       "      <td>iPhone</td>\n",
       "      <td>Negative emotion</td>\n",
       "    </tr>\n",
       "    <tr>\n",
       "      <th>1</th>\n",
       "      <td>@jessedee Know about @fludapp ? Awesome iPad/i...</td>\n",
       "      <td>iPad or iPhone App</td>\n",
       "      <td>Positive emotion</td>\n",
       "    </tr>\n",
       "    <tr>\n",
       "      <th>2</th>\n",
       "      <td>@swonderlin Can not wait for #iPad 2 also. The...</td>\n",
       "      <td>iPad</td>\n",
       "      <td>Positive emotion</td>\n",
       "    </tr>\n",
       "    <tr>\n",
       "      <th>3</th>\n",
       "      <td>@sxsw I hope this year's festival isn't as cra...</td>\n",
       "      <td>iPad or iPhone App</td>\n",
       "      <td>Negative emotion</td>\n",
       "    </tr>\n",
       "    <tr>\n",
       "      <th>4</th>\n",
       "      <td>@sxtxstate great stuff on Fri #SXSW: Marissa M...</td>\n",
       "      <td>Google</td>\n",
       "      <td>Positive emotion</td>\n",
       "    </tr>\n",
       "  </tbody>\n",
       "</table>\n",
       "</div>"
      ],
      "text/plain": [
       "                                          tweet_text  \\\n",
       "0  .@wesley83 I have a 3G iPhone. After 3 hrs twe...   \n",
       "1  @jessedee Know about @fludapp ? Awesome iPad/i...   \n",
       "2  @swonderlin Can not wait for #iPad 2 also. The...   \n",
       "3  @sxsw I hope this year's festival isn't as cra...   \n",
       "4  @sxtxstate great stuff on Fri #SXSW: Marissa M...   \n",
       "\n",
       "  emotion_in_tweet_is_directed_at  \\\n",
       "0                          iPhone   \n",
       "1              iPad or iPhone App   \n",
       "2                            iPad   \n",
       "3              iPad or iPhone App   \n",
       "4                          Google   \n",
       "\n",
       "  is_there_an_emotion_directed_at_a_brand_or_product  \n",
       "0                                   Negative emotion  \n",
       "1                                   Positive emotion  \n",
       "2                                   Positive emotion  \n",
       "3                                   Negative emotion  \n",
       "4                                   Positive emotion  "
      ]
     },
     "execution_count": 2,
     "metadata": {},
     "output_type": "execute_result"
    }
   ],
   "source": [
    "df = pd.read_csv('judge-1377884607_tweet_product_company.csv',encoding= 'unicode_escape')\n",
    "df.head()"
   ]
  },
  {
   "cell_type": "markdown",
   "metadata": {},
   "source": [
    "Let's convert the sentences contained in the `tweet_text` column to type `string` for later analysis."
   ]
  },
  {
   "cell_type": "code",
   "execution_count": 3,
   "metadata": {},
   "outputs": [],
   "source": [
    "df['tweet_text'] = df['tweet_text'].astype(str)"
   ]
  },
  {
   "cell_type": "markdown",
   "metadata": {},
   "source": [
    "Let's also rename the columns so that they are more readable."
   ]
  },
  {
   "cell_type": "code",
   "execution_count": 4,
   "metadata": {},
   "outputs": [],
   "source": [
    "df.rename(columns={\"emotion_in_tweet_is_directed_at\": \"product\", \"is_there_an_emotion_directed_at_a_brand_or_product\": \"emotion\"},inplace=True)"
   ]
  },
  {
   "cell_type": "markdown",
   "metadata": {},
   "source": [
    "We would like to classify the tweets on whether they are about Google or Apple. So, we first group all Google related `product` column values as Google and also group all Apple related `product` column values as Apple. Then, since there are many tweets that have unknown `product` values, we search for different substrings in these tweets in order to assign them to either Apple or Google categories. "
   ]
  },
  {
   "cell_type": "code",
   "execution_count": 5,
   "metadata": {},
   "outputs": [],
   "source": [
    "df[\"product\"].fillna(\"none\", inplace = True)\n",
    "df_none = df.loc[df[\"product\"] == 'none']\n",
    "\n",
    "apple_condition = (df['product'] == \"iPad\") | (df['product'] == \"iPad or iPhone App\") | (df['product'] == \"iPhone\") | (df['product'] == \"Other Apple product or service\")\n",
    "google_condition = (df['product'] == \"Other Google product or service\") | (df['product'] == \"Android App\") | (df['product'] == \"Android\") \n",
    "df.loc[apple_condition,'product'] = \"Apple\"\n",
    "df.loc[google_condition, 'product'] = \"Google\"\n",
    "\n",
    "# apple loop\n",
    "for word in [\"Apple\",\"iphone\",\"apple\",\"ipad\",\"ipad2\",\"iPad 2\",\"iPhone\",\"iPad\"]:\n",
    "    temp_df = df_none[df_none['tweet_text'].str.contains(word)]\n",
    "    temp_df['product'].replace({'none': 'Apple'}, inplace=True)\n",
    "    df_none = temp_df.combine_first(df_none)\n",
    "# google loop\n",
    "for word in [\"Google\",\"google\",\"Android\",\"android\"]:\n",
    "    temp_df = df_none[df_none['tweet_text'].str.contains(word)]\n",
    "    temp_df['product'].replace({'none': 'Google'}, inplace=True)\n",
    "    df_none = temp_df.combine_first(df_none)\n",
    "df_1 = df_none.combine_first(df)"
   ]
  },
  {
   "cell_type": "markdown",
   "metadata": {},
   "source": [
    "Next, drop the tweets that could not be assigned to a product. Also drop tweets that convey no emotion. "
   ]
  },
  {
   "cell_type": "code",
   "execution_count": 6,
   "metadata": {},
   "outputs": [],
   "source": [
    "df_1 = df_1[df_1['product'] != \"none\"]\n",
    "df_1 = df_1[df_1['emotion'] != \"I can't tell\"]"
   ]
  },
  {
   "cell_type": "markdown",
   "metadata": {},
   "source": [
    "Let's now visualize the distribution of sentiment toward each product in the tweets."
   ]
  },
  {
   "cell_type": "code",
   "execution_count": 7,
   "metadata": {},
   "outputs": [
    {
     "data": {
      "image/png": "[encoded data removed]",
      "text/plain": [
       "<Figure size 864x576 with 1 Axes>"
      ]
     },
     "metadata": {
      "needs_background": "light"
     },
     "output_type": "display_data"
    }
   ],
   "source": [
    "import matplotlib.pyplot as plt\n",
    "import seaborn as sns\n",
    "labels = ['negative','neutral','positive']\n",
    "fig, ax = plt.subplots(figsize=(12,8))\n",
    "ax = sns.countplot(df_1['emotion'], hue=df_1['product'], palette='Blues')\n",
    "plt.title('Sentiment Distribution', fontsize=25)\n",
    "ax.set_yticklabels([0,500,1000,1500,2000,2500], fontsize=18)\n",
    "ax.set_xticklabels(labels, fontsize=18)\n",
    "plt.xlabel('emotion',fontsize=20)\n",
    "plt.ylabel('Number of tweet',fontsize=20)\n",
    "plt.legend(loc=2, prop={'size': 20})\n",
    "plt.show()"
   ]
  },
  {
   "cell_type": "markdown",
   "metadata": {},
   "source": [
    "The distribution plot shown above indicates that there is class imbalance between the product categories (Apple and Google) and the sentiments (positive,negative,neutral). This class imbalance can negatively affect the model performance and it will be resolved shortly. "
   ]
  },
  {
   "cell_type": "markdown",
   "metadata": {},
   "source": [
    "Finally, models require the target variable to be of integer type, so let's assign 0 to `Negative emotion`, 1 to `No emotion toward brand or product` and 2 to `Positive emotion`."
   ]
  },
  {
   "cell_type": "code",
   "execution_count": 8,
   "metadata": {},
   "outputs": [],
   "source": [
    "def number_map(x):\n",
    "    if x == 'Positive emotion':\n",
    "        return 2\n",
    "    elif x == 'No emotion toward brand or product':\n",
    "        return 1\n",
    "    else:\n",
    "        return 0"
   ]
  },
  {
   "cell_type": "code",
   "execution_count": 9,
   "metadata": {},
   "outputs": [],
   "source": [
    "df_1['emotion'] = df_1['emotion'].apply(number_map)"
   ]
  },
  {
   "cell_type": "markdown",
   "metadata": {},
   "source": [
    "Now that `emotion` and `product` columns are preprocessed, let's focus on preprocessing the `tweet_text` column. We'll start by using regex in order to filter some unimportant characters and phrases from tweets."
   ]
  },
  {
   "cell_type": "code",
   "execution_count": 10,
   "metadata": {},
   "outputs": [],
   "source": [
    "import re\n",
    "# function to clean text\n",
    "def cleaner(tweet):\n",
    "    tweet = re.sub(r'@[A-Za-z0-9]+','', str(tweet)) # removes @\n",
    "    tweet = re.sub(r'#', '', str(tweet)) # removes hashtag\n",
    "    tweet = re.sub(r'RT[\\s]+','', str(tweet)) # removes RT\n",
    "    tweet = re.sub(r'https?:\\/\\/\\S+', '', tweet) # remove hyperlink in tweet\n",
    "    tweet = re.sub(r'[^\\w\\s]', '', tweet) # removes punctuations\n",
    "    #tweet = re.sub(r'[^a-zA-Z]','', tweet)\n",
    "    return tweet\n",
    "\n",
    "df_1['tweet_text'] = df_1['tweet_text'].apply(cleaner)"
   ]
  },
  {
   "cell_type": "markdown",
   "metadata": {},
   "source": [
    "Next, let's perform some feature engineering on the tweets. In the following cell, let's initiate the tokenizaton, stopword removal and lemmatization of the tweets. \n",
    "\n",
    "Tokenization will split each tweets into its respective words so that each word be analyzed by itself in the model. \n",
    "\n",
    "Stopword removal is necessary as stopwords are words that provide little to no sentiment value to the tweets. \n",
    "\n",
    "Lemmatization is needed as it allows to group words that are from the same root so that words that have the same meaning are considered the same. This way, the model is not hurt by needlessly increasing dimensionality."
   ]
  },
  {
   "cell_type": "code",
   "execution_count": 11,
   "metadata": {},
   "outputs": [],
   "source": [
    "from nltk.tokenize import RegexpTokenizer\n",
    "from nltk.corpus import stopwords\n",
    "from nltk.stem.wordnet import WordNetLemmatizer\n",
    "\n",
    "\n",
    "tokenizer = RegexpTokenizer(r\"(?u)\\w{3,}[a-zA-Z]\")\n",
    "\n",
    "stopwords_list = stopwords.words('english')\n",
    "\n",
    "lemmatizer = WordNetLemmatizer()\n",
    "\n",
    "def lemmatize_and_tokenize(text):\n",
    "    tokens = tokenizer.tokenize(text)\n",
    "    return [lemmatizer.lemmatize(token) for token in tokens]"
   ]
  },
  {
   "cell_type": "markdown",
   "metadata": {},
   "source": [
    "Next, let's perform a train-test split."
   ]
  },
  {
   "cell_type": "code",
   "execution_count": 12,
   "metadata": {},
   "outputs": [],
   "source": [
    "from sklearn.model_selection import train_test_split\n",
    "X_train, X_test, y_train, y_test = train_test_split(df_1.drop('emotion',axis=1), df_1['emotion'], random_state=42)## TRAIN TEST SPLIT"
   ]
  },
  {
   "cell_type": "markdown",
   "metadata": {},
   "source": [
    "Now that the dataset is cleaned, lemmatized and tokenized, it can now be converted into a vector format. In order to do so, TF-IDF vectorization will be used. This method is based on the idea that rare words are more valuable for prediction. The method utilizes two metrics:\n",
    "* TF (term frequency) refers to the ratio of number of times a word appear in the document to the total number of words in the document. \n",
    "* IDF (Inverse Document Frequency) refers to the logged ratio of number of documents to the number of documents including the word."
   ]
  },
  {
   "cell_type": "code",
   "execution_count": 13,
   "metadata": {},
   "outputs": [],
   "source": [
    "# Import the relevant vectorizer class\n",
    "from sklearn.feature_extraction.text import TfidfVectorizer\n",
    "\n",
    "# Instantiate a vectorizer with max_features=10\n",
    "# (we are using the default token pattern)\n",
    "tfidf = TfidfVectorizer(max_features=500, stop_words=stopwords_list, tokenizer=lemmatize_and_tokenize, strip_accents='ascii')\n",
    "\n",
    "# Fit the vectorizer on X_train[\"text\"] and transform it\n",
    "X_train_vectorized = tfidf.fit_transform(X_train[\"tweet_text\"])\n",
    "# Visually inspect the vectorized data\n",
    "X_train_df = pd.DataFrame.sparse.from_spmatrix(X_train_vectorized, columns=tfidf.get_feature_names())"
   ]
  },
  {
   "cell_type": "code",
   "execution_count": 14,
   "metadata": {},
   "outputs": [],
   "source": [
    "# transforming the test data\n",
    "X_test_vectorized = tfidf.transform(X_test['tweet_text'])\n",
    "X_test_df = pd.DataFrame.sparse.from_spmatrix(X_test_vectorized, columns=tfidf.get_feature_names())"
   ]
  },
  {
   "cell_type": "markdown",
   "metadata": {},
   "source": [
    "It is time to deal with the class imbalance that was visualized earlier. `RandomOverSampler` will generate new samples for the minority class by duplicating samples from existing minority samples at random. This way, majority class stays intact. "
   ]
  },
  {
   "cell_type": "code",
   "execution_count": 15,
   "metadata": {},
   "outputs": [],
   "source": [
    "from imblearn.over_sampling import RandomOverSampler\n",
    "from collections import Counter"
   ]
  },
  {
   "cell_type": "code",
   "execution_count": 16,
   "metadata": {},
   "outputs": [
    {
     "name": "stdout",
     "output_type": "stream",
     "text": [
      "Old shape of y:Counter({1: 3441, 2: 2233, 0: 423})\n",
      "New shape of y:Counter({2: 3441, 1: 3441, 0: 3441})\n"
     ]
    }
   ],
   "source": [
    "ros = RandomOverSampler(random_state=42)\n",
    "\n",
    "# fit predictor and target variable\n",
    "X_train_ros, y_train_ros = ros.fit_resample(X_train_vectorized, y_train)\n",
    "\n",
    "print('Old shape of y:' + str(Counter(y_train)))\n",
    "print('New shape of y:' + str(Counter(y_train_ros)))"
   ]
  },
  {
   "cell_type": "code",
   "execution_count": 17,
   "metadata": {},
   "outputs": [],
   "source": [
    "# This cell converts the resampled vectorized data into a df\n",
    "X_train_df = pd.DataFrame.sparse.from_spmatrix(X_train_ros, columns=tfidf.get_feature_names())"
   ]
  },
  {
   "cell_type": "markdown",
   "metadata": {},
   "source": [
    "## MODELING"
   ]
  },
  {
   "cell_type": "markdown",
   "metadata": {},
   "source": [
    "### Baseline Model: Logistic Regression"
   ]
  },
  {
   "cell_type": "markdown",
   "metadata": {},
   "source": [
    "We decided to select a logistic regression with no hyperparameter tuning as the baseline classification model. Logistic regression was chosen as it is a simple classification algorithm and computationally efficient."
   ]
  },
  {
   "cell_type": "code",
   "execution_count": 18,
   "metadata": {},
   "outputs": [],
   "source": [
    "from sklearn.linear_model import LogisticRegression\n",
    "from sklearn.model_selection import cross_val_score\n",
    "from sklearn.metrics import plot_confusion_matrix, accuracy_score\n",
    "logreg = LogisticRegression()\n",
    "logreg.fit(X_train_df, y_train_ros)\n",
    "y_test_pred = logreg.predict(X_test_df)"
   ]
  },
  {
   "cell_type": "markdown",
   "metadata": {},
   "source": [
    "Let's use cross-validation to observe how the baseline model does with unseen data."
   ]
  },
  {
   "cell_type": "code",
   "execution_count": 19,
   "metadata": {},
   "outputs": [
    {
     "data": {
      "text/plain": [
       "0.6505888563545243"
      ]
     },
     "execution_count": 19,
     "metadata": {},
     "output_type": "execute_result"
    }
   ],
   "source": [
    "# \"np.mean\" takes the average of 5 cross-validation scores\n",
    "np.mean(cross_val_score(logreg,X_train_df, y_train_ros,cv=5, scoring = 'accuracy'))"
   ]
  },
  {
   "cell_type": "markdown",
   "metadata": {},
   "source": [
    "Let's look at the confusion matrix to see how the baseline model did on the test set."
   ]
  },
  {
   "cell_type": "code",
   "execution_count": 20,
   "metadata": {},
   "outputs": [
    {
     "data": {
      "image/png": "[encoded data removed]",
      "text/plain": [
       "<Figure size 432x288 with 2 Axes>"
      ]
     },
     "metadata": {
      "needs_background": "light"
     },
     "output_type": "display_data"
    }
   ],
   "source": [
    "plot_confusion_matrix(logreg,X_test_df,y_test);"
   ]
  },
  {
   "cell_type": "markdown",
   "metadata": {},
   "source": [
    "Finally, let's calculate the accuracy score of the baseline model on the test set."
   ]
  },
  {
   "cell_type": "code",
   "execution_count": 21,
   "metadata": {},
   "outputs": [
    {
     "data": {
      "text/plain": [
       "0.5346778160354156"
      ]
     },
     "execution_count": 21,
     "metadata": {},
     "output_type": "execute_result"
    }
   ],
   "source": [
    "accuracy_score(y_test,y_test_pred)"
   ]
  },
  {
   "cell_type": "markdown",
   "metadata": {},
   "source": [
    "The team decided to use accuracy as the performance metric for the models. This is the case as we give equal importance to correctly identifying each sentiment. This is because although it seems, from a business perspective, correctly identifying neutral and negative tweets is more important than correctly identifying positive sentiment tweets, these categories are codependent on each other as there are three sentiment categories. Every incorrect prediction of positive tweets will disrupt either neutral and negative tweet prediction, therefore, the team decided to use accuracy which gives equal importance to predicting each label correctly."
   ]
  },
  {
   "cell_type": "markdown",
   "metadata": {},
   "source": [
    "### Logistic Regression with Hyperparameter Tuning"
   ]
  },
  {
   "cell_type": "markdown",
   "metadata": {},
   "source": [
    "Let's use `GridSearchCV` in order to try different hyperparameters to optimize the baseline logistic regression model."
   ]
  },
  {
   "cell_type": "code",
   "execution_count": 22,
   "metadata": {},
   "outputs": [
    {
     "data": {
      "text/plain": [
       "{'penalty': 'l2', 'solver': 'sag'}"
      ]
     },
     "execution_count": 22,
     "metadata": {},
     "output_type": "execute_result"
    }
   ],
   "source": [
    "from sklearn.model_selection import GridSearchCV\n",
    "\n",
    "logreg1 = LogisticRegression()\n",
    "param_grid =  {\n",
    "    'penalty': ['l2', 'l1', 'elasticnet'],\n",
    "    'solver': ['newton-cg', 'lbfgs', 'liblinear', 'sag', 'saga']\n",
    "}\n",
    "\n",
    "gs_logreg = GridSearchCV(logreg1, param_grid, cv=3, scoring='accuracy')\n",
    "gs_logreg.fit(X_train_df, y_train_ros)\n",
    "gs_logreg.best_params_"
   ]
  },
  {
   "cell_type": "markdown",
   "metadata": {},
   "source": [
    "Instantiate a new `LogisticRegression` model based on optimal parameters."
   ]
  },
  {
   "cell_type": "code",
   "execution_count": 23,
   "metadata": {},
   "outputs": [
    {
     "data": {
      "text/plain": [
       "LogisticRegression(solver='saga')"
      ]
     },
     "execution_count": 23,
     "metadata": {},
     "output_type": "execute_result"
    }
   ],
   "source": [
    "logreg2 = LogisticRegression(penalty = 'l2', solver = 'saga')\n",
    "logreg2.fit(X_train_df, y_train_ros)"
   ]
  },
  {
   "cell_type": "markdown",
   "metadata": {},
   "source": [
    "Let's use cross-validation to observe how the tuned baseline model does with unseen data."
   ]
  },
  {
   "cell_type": "code",
   "execution_count": 24,
   "metadata": {},
   "outputs": [
    {
     "data": {
      "text/plain": [
       "0.6511700640051054"
      ]
     },
     "execution_count": 24,
     "metadata": {},
     "output_type": "execute_result"
    }
   ],
   "source": [
    "np.mean(cross_val_score(logreg2, X_train_df, y_train_ros,cv=5, scoring = 'accuracy'))"
   ]
  },
  {
   "cell_type": "markdown",
   "metadata": {},
   "source": [
    "Let's look at the confusion matrix to see how the tuned baseline model did on the test set."
   ]
  },
  {
   "cell_type": "code",
   "execution_count": 25,
   "metadata": {},
   "outputs": [
    {
     "data": {
      "image/png": "[encoded data removed]",
      "text/plain": [
       "<Figure size 432x288 with 2 Axes>"
      ]
     },
     "metadata": {
      "needs_background": "light"
     },
     "output_type": "display_data"
    }
   ],
   "source": [
    "plot_confusion_matrix(logreg2,X_test_df,y_test);"
   ]
  },
  {
   "cell_type": "markdown",
   "metadata": {},
   "source": [
    "Finally, let's calculate the accuracy score of the tuned baseline model on the test set."
   ]
  },
  {
   "cell_type": "code",
   "execution_count": 26,
   "metadata": {},
   "outputs": [
    {
     "data": {
      "text/plain": [
       "0.5346778160354156"
      ]
     },
     "execution_count": 26,
     "metadata": {},
     "output_type": "execute_result"
    }
   ],
   "source": [
    "y_test_pred = logreg2.predict(X_test_df)\n",
    "accuracy_score(y_test,y_test_pred)"
   ]
  },
  {
   "cell_type": "markdown",
   "metadata": {},
   "source": [
    "Hyperparameter tuning did not improve the baseline model significantly. Let's move to a decision tree model and see how it does."
   ]
  },
  {
   "cell_type": "markdown",
   "metadata": {},
   "source": [
    "### Step Up Model: Decision Tree"
   ]
  },
  {
   "cell_type": "markdown",
   "metadata": {},
   "source": [
    "We decided to use a decision tree as the step up model as it is also a simple classification algorithm that is computationally efficient and performs better at multiclass classifications compared to logistic regression. "
   ]
  },
  {
   "cell_type": "code",
   "execution_count": 27,
   "metadata": {},
   "outputs": [
    {
     "data": {
      "text/plain": [
       "{'criterion': 'entropy', 'max_depth': 200}"
      ]
     },
     "execution_count": 27,
     "metadata": {},
     "output_type": "execute_result"
    }
   ],
   "source": [
    "from sklearn.tree import DecisionTreeClassifier\n",
    "from sklearn.model_selection import cross_val_score\n",
    "from sklearn.metrics import plot_confusion_matrix, accuracy_score\n",
    "tree = DecisionTreeClassifier()\n",
    "param_grid = { 'criterion':['gini','entropy'],\n",
    "               'max_depth':[100,200,300]\n",
    "}\n",
    "gs_tree = GridSearchCV(tree, param_grid, cv=3, scoring='accuracy')\n",
    "gs_tree.fit(X_train_df, y_train_ros)\n",
    "gs_tree.best_params_"
   ]
  },
  {
   "cell_type": "markdown",
   "metadata": {},
   "source": [
    "Let's analyze the performance of the tuned decision tree model."
   ]
  },
  {
   "cell_type": "code",
   "execution_count": 28,
   "metadata": {},
   "outputs": [
    {
     "data": {
      "text/plain": [
       "DecisionTreeClassifier(criterion='entropy', max_depth=300)"
      ]
     },
     "execution_count": 28,
     "metadata": {},
     "output_type": "execute_result"
    }
   ],
   "source": [
    "tree1 = DecisionTreeClassifier(criterion= 'entropy', max_depth = 200)\n",
    "tree1.fit(X_train_df, y_train_ros)"
   ]
  },
  {
   "cell_type": "markdown",
   "metadata": {},
   "source": [
    "Let's use cross-validation to observe how the tuned decision tree does with unseen data."
   ]
  },
  {
   "cell_type": "code",
   "execution_count": 29,
   "metadata": {},
   "outputs": [
    {
     "data": {
      "text/plain": [
       "0.7923147887456125"
      ]
     },
     "execution_count": 29,
     "metadata": {},
     "output_type": "execute_result"
    }
   ],
   "source": [
    "np.mean(cross_val_score(tree1,X_train_df, y_train_ros,cv=5, scoring = 'accuracy'))"
   ]
  },
  {
   "cell_type": "markdown",
   "metadata": {},
   "source": [
    "Let's look at the confusion matrix to see how the tuned decision tree did on the test set."
   ]
  },
  {
   "cell_type": "code",
   "execution_count": 30,
   "metadata": {
    "scrolled": true
   },
   "outputs": [
    {
     "data": {
      "image/png": "[encoded data removed]",
      "text/plain": [
       "<Figure size 432x288 with 2 Axes>"
      ]
     },
     "metadata": {
      "needs_background": "light"
     },
     "output_type": "display_data"
    }
   ],
   "source": [
    "plot_confusion_matrix(tree1,X_test_df,y_test);"
   ]
  },
  {
   "cell_type": "markdown",
   "metadata": {},
   "source": [
    "Finally, let's calculate the accuracy score of the tuned decision tree on the test set."
   ]
  },
  {
   "cell_type": "code",
   "execution_count": 31,
   "metadata": {
    "scrolled": false
   },
   "outputs": [
    {
     "data": {
      "text/plain": [
       "0.58780127889818"
      ]
     },
     "execution_count": 31,
     "metadata": {},
     "output_type": "execute_result"
    }
   ],
   "source": [
    "y_test_pred = tree1.predict(X_test_df)\n",
    "accuracy_score(y_test,y_test_pred)"
   ]
  },
  {
   "cell_type": "markdown",
   "metadata": {},
   "source": [
    "As it can be seen above, both the cross validation and test accuracy scores have improved significantly compared to logistic regression. "
   ]
  },
  {
   "cell_type": "markdown",
   "metadata": {},
   "source": [
    "## Final Model: Random Forest"
   ]
  },
  {
   "cell_type": "markdown",
   "metadata": {},
   "source": [
    "We decided to use a random forest as the final model as random forest is an ensemble model which means it is more immune to overfitting and has stronger performance compared to decision trees. "
   ]
  },
  {
   "cell_type": "code",
   "execution_count": 32,
   "metadata": {},
   "outputs": [
    {
     "data": {
      "text/plain": [
       "{'criterion': 'entropy', 'n_estimators': 100}"
      ]
     },
     "execution_count": 32,
     "metadata": {},
     "output_type": "execute_result"
    }
   ],
   "source": [
    "from sklearn.ensemble import RandomForestClassifier\n",
    "\n",
    "forest = RandomForestClassifier()\n",
    "param_grid = {'n_estimators':[50,100,200],\n",
    "                'criterion':['gini','entropy']\n",
    "}\n",
    "gs_forest = GridSearchCV(forest, param_grid, cv=5, scoring='accuracy')\n",
    "gs_forest.fit(X_train_df, y_train_ros)\n",
    "gs_forest.best_params_"
   ]
  },
  {
   "cell_type": "markdown",
   "metadata": {},
   "source": [
    "Let's analyze the performance of the tuned random forest model."
   ]
  },
  {
   "cell_type": "code",
   "execution_count": 33,
   "metadata": {},
   "outputs": [
    {
     "data": {
      "text/plain": [
       "RandomForestClassifier(criterion='entropy', n_estimators=200)"
      ]
     },
     "execution_count": 33,
     "metadata": {},
     "output_type": "execute_result"
    }
   ],
   "source": [
    "forest1 = RandomForestClassifier(n_estimators=200 , criterion = 'entropy')\n",
    "forest1.fit(X_train_df, y_train_ros)"
   ]
  },
  {
   "cell_type": "markdown",
   "metadata": {},
   "source": [
    "Let's use cross-validation to observe how the tuned random forest does with unseen data."
   ]
  },
  {
   "cell_type": "code",
   "execution_count": 34,
   "metadata": {},
   "outputs": [
    {
     "data": {
      "text/plain": [
       "0.8171133885166206"
      ]
     },
     "execution_count": 34,
     "metadata": {},
     "output_type": "execute_result"
    }
   ],
   "source": [
    "np.mean(cross_val_score(forest1,X_train_df, y_train_ros,cv=5, scoring = 'accuracy'))"
   ]
  },
  {
   "cell_type": "markdown",
   "metadata": {},
   "source": [
    "Let's look at the confusion matrix to see how the tuned random forest did on the test set."
   ]
  },
  {
   "cell_type": "code",
   "execution_count": 35,
   "metadata": {
    "scrolled": true
   },
   "outputs": [
    {
     "data": {
      "image/png": "[encoded data removed]",
      "text/plain": [
       "<Figure size 432x288 with 2 Axes>"
      ]
     },
     "metadata": {
      "needs_background": "light"
     },
     "output_type": "display_data"
    }
   ],
   "source": [
    "plot_confusion_matrix(forest1,X_test_df,y_test);"
   ]
  },
  {
   "cell_type": "markdown",
   "metadata": {},
   "source": [
    "Finally, let's calculate the accuracy score of the tuned random forest on the test set."
   ]
  },
  {
   "cell_type": "code",
   "execution_count": 36,
   "metadata": {
    "scrolled": false
   },
   "outputs": [
    {
     "data": {
      "text/plain": [
       "0.6369896704377767"
      ]
     },
     "execution_count": 36,
     "metadata": {},
     "output_type": "execute_result"
    }
   ],
   "source": [
    "y_test_pred = forest1.predict(X_test_df)\n",
    "accuracy_score(y_test,y_test_pred)"
   ]
  },
  {
   "cell_type": "markdown",
   "metadata": {},
   "source": [
    "As it can be seen above, both the cross validation and test accuracy scores have improved significantly compared to decision tree. "
   ]
  },
  {
   "cell_type": "markdown",
   "metadata": {},
   "source": [
    "# Conclusion"
   ]
  },
  {
   "cell_type": "markdown",
   "metadata": {},
   "source": [
    "The goal of this project was to come up with a method to perform sentiment analysis on tweets about Apple and Google products. In order to do so, we have created multiple classification models and identified the best one as a random forest model with an accuracy of 63%. This model will allow our stakeholder to identify the priority (negative and neutral) users and target their ads accordingly. \n",
    "\n",
    "We recommend that the stakeholder should focus on targeting Twitter users whose Tweets displayed either a neutral or negative sentiment towards Apple products. After all, they wouldn't want to lose customers based on one or two negative experiences they had. At the same time, we don’t want to risk losing customers who are neutral towards Apple products\n",
    "Just like it’s important to bring in new customers, we think it’s just as important to retain the customers we have and keep them coming back to use our products. As for users that displayed a neutral or negative sentiment toward Google products, we see that as an opportunity to add to our current customer base. Targeting ads towards these users could convince them to ditch their Google products and see what they’re missing out on with Apple products."
   ]
  },
  {
   "cell_type": "markdown",
   "metadata": {},
   "source": [
    "# Future Research"
   ]
  },
  {
   "cell_type": "markdown",
   "metadata": {},
   "source": [
    "Majority of tweets about Apple and Google products were either positive or neutral. More negative tweets should gathered in order to eliminate class imbalance without artificial methods. Also, focusing on specific Apple products that get more or less positive sentiment towards it. For example, maybe a specific Apple product like the iPad gets more positive tweets than another product. You can then advertise other Apple products like the Apple Watch or a Macbook to this user. \n",
    "\n",
    "Finally, the data also contains a fair amount of ‘retweets’. These tweets are repetitive, therefore we’d want to eliminate them in future research and replace them with original tweets."
   ]
  }
 ],
 "metadata": {
  "interpreter": {
   "hash": "c94be41889154d41bf43aca8d1a8d1cd64b97c119170e03e2ed46ca87183f0c5"
  },
  "kernelspec": {
   "display_name": "Python 3",
   "language": "python",
   "name": "python3"
  },
  "language_info": {
   "codemirror_mode": {
    "name": "ipython",
    "version": 3
   },
   "file_extension": ".py",
   "mimetype": "text/x-python",
   "name": "python",
   "nbconvert_exporter": "python",
   "pygments_lexer": "ipython3",
   "version": "3.8.5"
  }
 },
 "nbformat": 4,
 "nbformat_minor": 2
}
