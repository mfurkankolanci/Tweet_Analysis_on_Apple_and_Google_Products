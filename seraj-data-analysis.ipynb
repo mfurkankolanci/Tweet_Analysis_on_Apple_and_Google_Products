{
 "cells": [
  {
   "cell_type": "code",
   "execution_count": 2,
   "metadata": {},
   "outputs": [
    {
     "name": "stdout",
     "output_type": "stream",
     "text": [
      "README.md\r\n",
      "Untitled.ipynb\r\n",
      "judge-1377884607_tweet_product_company.csv\r\n"
     ]
    }
   ],
   "source": [
    "ls"
   ]
  },
  {
   "cell_type": "code",
   "execution_count": 278,
   "metadata": {},
   "outputs": [],
   "source": [
    "import pandas as pd\n",
    "import numpy as np"
   ]
  },
  {
   "cell_type": "code",
   "execution_count": 324,
   "metadata": {},
   "outputs": [],
   "source": [
    "df = pd.read_csv('judge-1377884607_tweet_product_company.csv', encoding= 'unicode_escape')"
   ]
  },
  {
   "cell_type": "code",
   "execution_count": 325,
   "metadata": {},
   "outputs": [],
   "source": [
    "df['tweet_text'] = df['tweet_text'].astype(str)"
   ]
  },
  {
   "cell_type": "code",
   "execution_count": 20,
   "metadata": {},
   "outputs": [
    {
     "name": "stdout",
     "output_type": "stream",
     "text": [
      "<class 'pandas.core.frame.DataFrame'>\n",
      "RangeIndex: 9093 entries, 0 to 9092\n",
      "Data columns (total 3 columns):\n",
      " #   Column                                              Non-Null Count  Dtype \n",
      "---  ------                                              --------------  ----- \n",
      " 0   tweet_text                                          9093 non-null   object\n",
      " 1   emotion_in_tweet_is_directed_at                     3291 non-null   object\n",
      " 2   is_there_an_emotion_directed_at_a_brand_or_product  9093 non-null   object\n",
      "dtypes: object(3)\n",
      "memory usage: 213.2+ KB\n"
     ]
    }
   ],
   "source": [
    "df.info()"
   ]
  },
  {
   "cell_type": "code",
   "execution_count": 20,
   "metadata": {},
   "outputs": [
    {
     "name": "stderr",
     "output_type": "stream",
     "text": [
      "[nltk_data] Downloading package vader_lexicon to\n",
      "[nltk_data]     /Users/serajkhazei/nltk_data...\n"
     ]
    },
    {
     "data": {
      "text/plain": [
       "True"
      ]
     },
     "execution_count": 20,
     "metadata": {},
     "output_type": "execute_result"
    }
   ],
   "source": [
    "import nltk\n",
    "nltk.download('vader_lexicon')"
   ]
  },
  {
   "cell_type": "code",
   "execution_count": 138,
   "metadata": {},
   "outputs": [],
   "source": [
    "from nltk.sentiment.vader import SentimentIntensityAnalyzer"
   ]
  },
  {
   "cell_type": "code",
   "execution_count": 144,
   "metadata": {},
   "outputs": [],
   "source": [
    "x = df_1['tweet_text'].map(lambda x: analyzer.polarity_scores(x)['pos'])\n",
    "y = df_1['tweet_text'].map(lambda x: analyzer.polarity_scores(x)['neg'])\n",
    "z = df_1['tweet_text'].map(lambda x: analyzer.polarity_scores(x)['neu'])\n",
    "df['positve_score'] = x\n",
    "df['negative_score'] = y\n",
    "df['neutral_score'] = z\n",
    "\n",
    "\n"
   ]
  },
  {
   "cell_type": "code",
   "execution_count": 40,
   "metadata": {},
   "outputs": [
    {
     "data": {
      "text/plain": [
       "'Really enjoying the changes in Gowalla 3.0 for Android! Looking forward to seeing what else they &amp; Foursquare have up their sleeves at #SXSW'"
      ]
     },
     "execution_count": 40,
     "metadata": {},
     "output_type": "execute_result"
    }
   ],
   "source": [
    "df['tweet_text'][24]"
   ]
  },
  {
   "cell_type": "code",
   "execution_count": 255,
   "metadata": {},
   "outputs": [
    {
     "data": {
      "text/html": [
       "<div>\n",
       "<style scoped>\n",
       "    .dataframe tbody tr th:only-of-type {\n",
       "        vertical-align: middle;\n",
       "    }\n",
       "\n",
       "    .dataframe tbody tr th {\n",
       "        vertical-align: top;\n",
       "    }\n",
       "\n",
       "    .dataframe thead th {\n",
       "        text-align: right;\n",
       "    }\n",
       "</style>\n",
       "<table border=\"1\" class=\"dataframe\">\n",
       "  <thead>\n",
       "    <tr style=\"text-align: right;\">\n",
       "      <th></th>\n",
       "      <th>tweet_text</th>\n",
       "      <th>emotion_in_tweet_is_directed_at</th>\n",
       "      <th>is_there_an_emotion_directed_at_a_brand_or_product</th>\n",
       "    </tr>\n",
       "  </thead>\n",
       "  <tbody>\n",
       "    <tr>\n",
       "      <th>1000</th>\n",
       "      <td>Instagram photo by iamtimbaker: Google's 1980'...</td>\n",
       "      <td>NaN</td>\n",
       "      <td>No emotion toward brand or product</td>\n",
       "    </tr>\n",
       "  </tbody>\n",
       "</table>\n",
       "</div>"
      ],
      "text/plain": [
       "                                             tweet_text  \\\n",
       "1000  Instagram photo by iamtimbaker: Google's 1980'...   \n",
       "\n",
       "     emotion_in_tweet_is_directed_at  \\\n",
       "1000                             NaN   \n",
       "\n",
       "     is_there_an_emotion_directed_at_a_brand_or_product  \n",
       "1000                 No emotion toward brand or product  "
      ]
     },
     "execution_count": 255,
     "metadata": {},
     "output_type": "execute_result"
    }
   ],
   "source": [
    "df.iloc[1000:1001]"
   ]
  },
  {
   "cell_type": "code",
   "execution_count": 326,
   "metadata": {},
   "outputs": [],
   "source": [
    "from textblob import TextBlob\n",
    "from textblob import Blobber\n",
    "from textblob.sentiments import NaiveBayesAnalyzer"
   ]
  },
  {
   "cell_type": "code",
   "execution_count": 233,
   "metadata": {},
   "outputs": [
    {
     "data": {
      "text/plain": [
       "Sentiment(classification='neg', p_pos=0.23641497370923784, p_neg=0.763585026290762)"
      ]
     },
     "execution_count": 233,
     "metadata": {},
     "output_type": "execute_result"
    }
   ],
   "source": [
    "blobber = Blobber(analyzer=NaiveBayesAnalyzer()) #row-0\n",
    "\n",
    "blob = blobber('.@wesley83 I have a 3G iPhone. After 3 hrs tweeting at #RISE_Austin, it was dead!  I need to upgrade. Plugin stations at #SXSW.')\n",
    "blob.sentiment"
   ]
  },
  {
   "cell_type": "code",
   "execution_count": 23,
   "metadata": {},
   "outputs": [
    {
     "data": {
      "text/plain": [
       "Sentiment(classification='pos', p_pos=0.8405287536596754, p_neg=0.15947124634032533)"
      ]
     },
     "execution_count": 23,
     "metadata": {},
     "output_type": "execute_result"
    }
   ],
   "source": [
    "blob_2 = blobber('Photo: Just installed the #SXSW iPhone app, which is really nice!') #row-23\n",
    "blob_2.sentiment"
   ]
  },
  {
   "cell_type": "code",
   "execution_count": 24,
   "metadata": {},
   "outputs": [
    {
     "data": {
      "text/plain": [
       "Sentiment(classification='neg', p_pos=0.48228688254505736, p_neg=0.5177131174549423)"
      ]
     },
     "execution_count": 24,
     "metadata": {},
     "output_type": "execute_result"
    }
   ],
   "source": [
    "blob_3 = blobber(\"Instagram photo by iamtimbaker: Google 1980's SXSW Party with @mention {link}\") #row-1000\n",
    "blob_3.sentiment"
   ]
  },
  {
   "cell_type": "code",
   "execution_count": 25,
   "metadata": {},
   "outputs": [
    {
     "data": {
      "text/plain": [
       "Sentiment(classification='pos', p_pos=0.6373482888123608, p_neg=0.36265171118763867)"
      ]
     },
     "execution_count": 25,
     "metadata": {},
     "output_type": "execute_result"
    }
   ],
   "source": [
    "blob_4 = blobber('I need to play this game on my #android - #SXSW {link}') #row-23\n",
    "blob_4.sentiment"
   ]
  },
  {
   "cell_type": "code",
   "execution_count": 35,
   "metadata": {},
   "outputs": [
    {
     "data": {
      "text/plain": [
       "Sentiment(classification='pos', p_pos=0.6624132945533238, p_neg=0.33758670544667624)"
      ]
     },
     "execution_count": 35,
     "metadata": {},
     "output_type": "execute_result"
    }
   ],
   "source": [
    "blob_5 = blobber(\"@sxsw I hope this year's festival isn't as crashy as this year's iPhone app. #sxsw\") #row-3\n",
    "blob_5.sentiment"
   ]
  },
  {
   "cell_type": "code",
   "execution_count": 38,
   "metadata": {},
   "outputs": [
    {
     "data": {
      "text/plain": [
       "Sentiment(classification='neg', p_pos=0.20081361087560168, p_neg=0.7991863891243994)"
      ]
     },
     "execution_count": 38,
     "metadata": {},
     "output_type": "execute_result"
    }
   ],
   "source": [
    "blob_6 = blobber(\"'#SXSW is just starting, #CTIA is around the corner and #googleio is only a hop skip and a jump from there, good time to be an #android fan'\") #row-3\n",
    "blob_6.sentiment"
   ]
  },
  {
   "cell_type": "code",
   "execution_count": 327,
   "metadata": {},
   "outputs": [],
   "source": [
    "def result(t1):\n",
    "    blob = blobber(t1)\n",
    "    y = blob.sentiment.classification\n",
    "    return y"
   ]
  },
  {
   "cell_type": "code",
   "execution_count": 328,
   "metadata": {},
   "outputs": [],
   "source": [
    "df['emotion'] = df['tweet_text'].map(lambda x: result(x))"
   ]
  },
  {
   "cell_type": "code",
   "execution_count": 329,
   "metadata": {},
   "outputs": [
    {
     "data": {
      "text/html": [
       "<div>\n",
       "<style scoped>\n",
       "    .dataframe tbody tr th:only-of-type {\n",
       "        vertical-align: middle;\n",
       "    }\n",
       "\n",
       "    .dataframe tbody tr th {\n",
       "        vertical-align: top;\n",
       "    }\n",
       "\n",
       "    .dataframe thead th {\n",
       "        text-align: right;\n",
       "    }\n",
       "</style>\n",
       "<table border=\"1\" class=\"dataframe\">\n",
       "  <thead>\n",
       "    <tr style=\"text-align: right;\">\n",
       "      <th></th>\n",
       "      <th>tweet_text</th>\n",
       "      <th>emotion_in_tweet_is_directed_at</th>\n",
       "      <th>is_there_an_emotion_directed_at_a_brand_or_product</th>\n",
       "      <th>emotion</th>\n",
       "    </tr>\n",
       "  </thead>\n",
       "  <tbody>\n",
       "    <tr>\n",
       "      <th>0</th>\n",
       "      <td>.@wesley83 I have a 3G iPhone. After 3 hrs twe...</td>\n",
       "      <td>iPhone</td>\n",
       "      <td>Negative emotion</td>\n",
       "      <td>neg</td>\n",
       "    </tr>\n",
       "    <tr>\n",
       "      <th>1</th>\n",
       "      <td>@jessedee Know about @fludapp ? Awesome iPad/i...</td>\n",
       "      <td>iPad or iPhone App</td>\n",
       "      <td>Positive emotion</td>\n",
       "      <td>pos</td>\n",
       "    </tr>\n",
       "    <tr>\n",
       "      <th>2</th>\n",
       "      <td>@swonderlin Can not wait for #iPad 2 also. The...</td>\n",
       "      <td>iPad</td>\n",
       "      <td>Positive emotion</td>\n",
       "      <td>pos</td>\n",
       "    </tr>\n",
       "    <tr>\n",
       "      <th>3</th>\n",
       "      <td>@sxsw I hope this year's festival isn't as cra...</td>\n",
       "      <td>iPad or iPhone App</td>\n",
       "      <td>Negative emotion</td>\n",
       "      <td>pos</td>\n",
       "    </tr>\n",
       "    <tr>\n",
       "      <th>4</th>\n",
       "      <td>@sxtxstate great stuff on Fri #SXSW: Marissa M...</td>\n",
       "      <td>Google</td>\n",
       "      <td>Positive emotion</td>\n",
       "      <td>pos</td>\n",
       "    </tr>\n",
       "    <tr>\n",
       "      <th>5</th>\n",
       "      <td>@teachntech00 New iPad Apps For #SpeechTherapy...</td>\n",
       "      <td>NaN</td>\n",
       "      <td>No emotion toward brand or product</td>\n",
       "      <td>neg</td>\n",
       "    </tr>\n",
       "    <tr>\n",
       "      <th>6</th>\n",
       "      <td>nan</td>\n",
       "      <td>NaN</td>\n",
       "      <td>No emotion toward brand or product</td>\n",
       "      <td>pos</td>\n",
       "    </tr>\n",
       "    <tr>\n",
       "      <th>7</th>\n",
       "      <td>#SXSW is just starting, #CTIA is around the co...</td>\n",
       "      <td>Android</td>\n",
       "      <td>Positive emotion</td>\n",
       "      <td>neg</td>\n",
       "    </tr>\n",
       "    <tr>\n",
       "      <th>8</th>\n",
       "      <td>Beautifully smart and simple idea RT @madebyma...</td>\n",
       "      <td>iPad or iPhone App</td>\n",
       "      <td>Positive emotion</td>\n",
       "      <td>pos</td>\n",
       "    </tr>\n",
       "    <tr>\n",
       "      <th>9</th>\n",
       "      <td>Counting down the days to #sxsw plus strong Ca...</td>\n",
       "      <td>Apple</td>\n",
       "      <td>Positive emotion</td>\n",
       "      <td>pos</td>\n",
       "    </tr>\n",
       "    <tr>\n",
       "      <th>10</th>\n",
       "      <td>Excited to meet the @samsungmobileus at #sxsw ...</td>\n",
       "      <td>Android</td>\n",
       "      <td>Positive emotion</td>\n",
       "      <td>pos</td>\n",
       "    </tr>\n",
       "    <tr>\n",
       "      <th>11</th>\n",
       "      <td>Find &amp;amp; Start Impromptu Parties at #SXSW Wi...</td>\n",
       "      <td>Android App</td>\n",
       "      <td>Positive emotion</td>\n",
       "      <td>pos</td>\n",
       "    </tr>\n",
       "    <tr>\n",
       "      <th>12</th>\n",
       "      <td>Foursquare ups the game, just in time for #SXS...</td>\n",
       "      <td>Android App</td>\n",
       "      <td>Positive emotion</td>\n",
       "      <td>pos</td>\n",
       "    </tr>\n",
       "    <tr>\n",
       "      <th>13</th>\n",
       "      <td>Gotta love this #SXSW Google Calendar featurin...</td>\n",
       "      <td>Other Google product or service</td>\n",
       "      <td>Positive emotion</td>\n",
       "      <td>pos</td>\n",
       "    </tr>\n",
       "    <tr>\n",
       "      <th>14</th>\n",
       "      <td>Great #sxsw ipad app from @madebymany: http://...</td>\n",
       "      <td>iPad or iPhone App</td>\n",
       "      <td>Positive emotion</td>\n",
       "      <td>pos</td>\n",
       "    </tr>\n",
       "    <tr>\n",
       "      <th>15</th>\n",
       "      <td>haha, awesomely rad iPad app by @madebymany ht...</td>\n",
       "      <td>iPad or iPhone App</td>\n",
       "      <td>Positive emotion</td>\n",
       "      <td>pos</td>\n",
       "    </tr>\n",
       "    <tr>\n",
       "      <th>16</th>\n",
       "      <td>Holler Gram for iPad on the iTunes App Store -...</td>\n",
       "      <td>NaN</td>\n",
       "      <td>No emotion toward brand or product</td>\n",
       "      <td>pos</td>\n",
       "    </tr>\n",
       "    <tr>\n",
       "      <th>17</th>\n",
       "      <td>I just noticed DST is coming this weekend. How...</td>\n",
       "      <td>iPhone</td>\n",
       "      <td>Negative emotion</td>\n",
       "      <td>pos</td>\n",
       "    </tr>\n",
       "    <tr>\n",
       "      <th>18</th>\n",
       "      <td>Just added my #SXSW flights to @planely. Match...</td>\n",
       "      <td>iPad or iPhone App</td>\n",
       "      <td>Positive emotion</td>\n",
       "      <td>pos</td>\n",
       "    </tr>\n",
       "    <tr>\n",
       "      <th>19</th>\n",
       "      <td>Must have #SXSW app! RT @malbonster: Lovely re...</td>\n",
       "      <td>iPad or iPhone App</td>\n",
       "      <td>Positive emotion</td>\n",
       "      <td>neg</td>\n",
       "    </tr>\n",
       "    <tr>\n",
       "      <th>20</th>\n",
       "      <td>Need to buy an iPad2 while I'm in Austin at #s...</td>\n",
       "      <td>iPad</td>\n",
       "      <td>Positive emotion</td>\n",
       "      <td>pos</td>\n",
       "    </tr>\n",
       "    <tr>\n",
       "      <th>21</th>\n",
       "      <td>Oh. My. God. The #SXSW app for iPad is pure, u...</td>\n",
       "      <td>iPad or iPhone App</td>\n",
       "      <td>Positive emotion</td>\n",
       "      <td>pos</td>\n",
       "    </tr>\n",
       "    <tr>\n",
       "      <th>22</th>\n",
       "      <td>Okay, this is really it: yay new @Foursquare f...</td>\n",
       "      <td>Android App</td>\n",
       "      <td>Positive emotion</td>\n",
       "      <td>pos</td>\n",
       "    </tr>\n",
       "    <tr>\n",
       "      <th>23</th>\n",
       "      <td>Photo: Just installed the #SXSW iPhone app, wh...</td>\n",
       "      <td>iPad or iPhone App</td>\n",
       "      <td>Positive emotion</td>\n",
       "      <td>pos</td>\n",
       "    </tr>\n",
       "    <tr>\n",
       "      <th>24</th>\n",
       "      <td>Really enjoying the changes in Gowalla 3.0 for...</td>\n",
       "      <td>Android App</td>\n",
       "      <td>Positive emotion</td>\n",
       "      <td>neg</td>\n",
       "    </tr>\n",
       "    <tr>\n",
       "      <th>25</th>\n",
       "      <td>RT @LaurieShook: I'm looking forward to the #S...</td>\n",
       "      <td>iPad</td>\n",
       "      <td>Positive emotion</td>\n",
       "      <td>neg</td>\n",
       "    </tr>\n",
       "    <tr>\n",
       "      <th>26</th>\n",
       "      <td>RT haha, awesomely rad iPad app by @madebymany...</td>\n",
       "      <td>iPad or iPhone App</td>\n",
       "      <td>Positive emotion</td>\n",
       "      <td>pos</td>\n",
       "    </tr>\n",
       "    <tr>\n",
       "      <th>27</th>\n",
       "      <td>someone started an #austin @PartnerHub group i...</td>\n",
       "      <td>Other Google product or service</td>\n",
       "      <td>Positive emotion</td>\n",
       "      <td>pos</td>\n",
       "    </tr>\n",
       "    <tr>\n",
       "      <th>28</th>\n",
       "      <td>The new #4sq3 looks like it is going to rock. ...</td>\n",
       "      <td>iPad or iPhone App</td>\n",
       "      <td>Positive emotion</td>\n",
       "      <td>neg</td>\n",
       "    </tr>\n",
       "    <tr>\n",
       "      <th>29</th>\n",
       "      <td>They were right, the @gowalla 3 app on #androi...</td>\n",
       "      <td>Android App</td>\n",
       "      <td>Positive emotion</td>\n",
       "      <td>pos</td>\n",
       "    </tr>\n",
       "    <tr>\n",
       "      <th>30</th>\n",
       "      <td>Very smart from @madebymany #hollergram iPad a...</td>\n",
       "      <td>iPad or iPhone App</td>\n",
       "      <td>Positive emotion</td>\n",
       "      <td>pos</td>\n",
       "    </tr>\n",
       "    <tr>\n",
       "      <th>31</th>\n",
       "      <td>You must have this app for your iPad if you ar...</td>\n",
       "      <td>iPad or iPhone App</td>\n",
       "      <td>Positive emotion</td>\n",
       "      <td>pos</td>\n",
       "    </tr>\n",
       "    <tr>\n",
       "      <th>32</th>\n",
       "      <td>Attn: All  #SXSW frineds, @mention Register fo...</td>\n",
       "      <td>NaN</td>\n",
       "      <td>No emotion toward brand or product</td>\n",
       "      <td>neg</td>\n",
       "    </tr>\n",
       "    <tr>\n",
       "      <th>33</th>\n",
       "      <td>Anyone at  #sxsw want to sell their old iPad?</td>\n",
       "      <td>NaN</td>\n",
       "      <td>No emotion toward brand or product</td>\n",
       "      <td>neg</td>\n",
       "    </tr>\n",
       "    <tr>\n",
       "      <th>34</th>\n",
       "      <td>Anyone at  #SXSW who bought the new iPad want ...</td>\n",
       "      <td>NaN</td>\n",
       "      <td>No emotion toward brand or product</td>\n",
       "      <td>pos</td>\n",
       "    </tr>\n",
       "    <tr>\n",
       "      <th>35</th>\n",
       "      <td>At #sxsw.  Oooh. RT @mention Google to Launch ...</td>\n",
       "      <td>NaN</td>\n",
       "      <td>No emotion toward brand or product</td>\n",
       "      <td>neg</td>\n",
       "    </tr>\n",
       "    <tr>\n",
       "      <th>36</th>\n",
       "      <td>The best!  RT @mention Ha! First in line for #...</td>\n",
       "      <td>iPad</td>\n",
       "      <td>Positive emotion</td>\n",
       "      <td>neg</td>\n",
       "    </tr>\n",
       "    <tr>\n",
       "      <th>37</th>\n",
       "      <td>SPIN Play - a new concept in music discovery f...</td>\n",
       "      <td>NaN</td>\n",
       "      <td>No emotion toward brand or product</td>\n",
       "      <td>pos</td>\n",
       "    </tr>\n",
       "    <tr>\n",
       "      <th>38</th>\n",
       "      <td>@mention  - False Alarm: Google Circles Not Co...</td>\n",
       "      <td>Google</td>\n",
       "      <td>Negative emotion</td>\n",
       "      <td>pos</td>\n",
       "    </tr>\n",
       "    <tr>\n",
       "      <th>39</th>\n",
       "      <td>VatorNews - Google And Apple Force Print Media...</td>\n",
       "      <td>NaN</td>\n",
       "      <td>No emotion toward brand or product</td>\n",
       "      <td>pos</td>\n",
       "    </tr>\n",
       "    <tr>\n",
       "      <th>40</th>\n",
       "      <td>@mention  - Great weather to greet you for #sx...</td>\n",
       "      <td>Apple</td>\n",
       "      <td>Positive emotion</td>\n",
       "      <td>neg</td>\n",
       "    </tr>\n",
       "    <tr>\n",
       "      <th>41</th>\n",
       "      <td>HootSuite - HootSuite Mobile for #SXSW ~ Updat...</td>\n",
       "      <td>NaN</td>\n",
       "      <td>No emotion toward brand or product</td>\n",
       "      <td>neg</td>\n",
       "    </tr>\n",
       "    <tr>\n",
       "      <th>42</th>\n",
       "      <td>Hey #SXSW - How long do you think it takes us ...</td>\n",
       "      <td>NaN</td>\n",
       "      <td>No emotion toward brand or product</td>\n",
       "      <td>neg</td>\n",
       "    </tr>\n",
       "    <tr>\n",
       "      <th>43</th>\n",
       "      <td>Mashable! - The iPad 2 Takes Over SXSW [VIDEO]...</td>\n",
       "      <td>NaN</td>\n",
       "      <td>No emotion toward brand or product</td>\n",
       "      <td>pos</td>\n",
       "    </tr>\n",
       "    <tr>\n",
       "      <th>44</th>\n",
       "      <td>For I-Pad ?RT @mention New #UberSocial for #iP...</td>\n",
       "      <td>NaN</td>\n",
       "      <td>No emotion toward brand or product</td>\n",
       "      <td>pos</td>\n",
       "    </tr>\n",
       "    <tr>\n",
       "      <th>45</th>\n",
       "      <td>#IPad2 's Û÷#SmartCoverÛª Opens to Instant A...</td>\n",
       "      <td>iPad or iPhone App</td>\n",
       "      <td>Positive emotion</td>\n",
       "      <td>pos</td>\n",
       "    </tr>\n",
       "    <tr>\n",
       "      <th>46</th>\n",
       "      <td>Hand-Held Û÷HoboÛª: Drafthouse launches Û÷H...</td>\n",
       "      <td>NaN</td>\n",
       "      <td>Positive emotion</td>\n",
       "      <td>neg</td>\n",
       "    </tr>\n",
       "    <tr>\n",
       "      <th>47</th>\n",
       "      <td>HOORAY RT ÛÏ@mention Apple Is Opening A Pop-U...</td>\n",
       "      <td>Apple</td>\n",
       "      <td>Positive emotion</td>\n",
       "      <td>pos</td>\n",
       "    </tr>\n",
       "    <tr>\n",
       "      <th>48</th>\n",
       "      <td>Orly....? ÛÏ@mention Google set to launch new...</td>\n",
       "      <td>NaN</td>\n",
       "      <td>No emotion toward brand or product</td>\n",
       "      <td>pos</td>\n",
       "    </tr>\n",
       "    <tr>\n",
       "      <th>49</th>\n",
       "      <td>wooooo!!! ÛÏ@mention Apple store downtown Aus...</td>\n",
       "      <td>Apple</td>\n",
       "      <td>Positive emotion</td>\n",
       "      <td>pos</td>\n",
       "    </tr>\n",
       "  </tbody>\n",
       "</table>\n",
       "</div>"
      ],
      "text/plain": [
       "                                           tweet_text  \\\n",
       "0   .@wesley83 I have a 3G iPhone. After 3 hrs twe...   \n",
       "1   @jessedee Know about @fludapp ? Awesome iPad/i...   \n",
       "2   @swonderlin Can not wait for #iPad 2 also. The...   \n",
       "3   @sxsw I hope this year's festival isn't as cra...   \n",
       "4   @sxtxstate great stuff on Fri #SXSW: Marissa M...   \n",
       "5   @teachntech00 New iPad Apps For #SpeechTherapy...   \n",
       "6                                                 nan   \n",
       "7   #SXSW is just starting, #CTIA is around the co...   \n",
       "8   Beautifully smart and simple idea RT @madebyma...   \n",
       "9   Counting down the days to #sxsw plus strong Ca...   \n",
       "10  Excited to meet the @samsungmobileus at #sxsw ...   \n",
       "11  Find &amp; Start Impromptu Parties at #SXSW Wi...   \n",
       "12  Foursquare ups the game, just in time for #SXS...   \n",
       "13  Gotta love this #SXSW Google Calendar featurin...   \n",
       "14  Great #sxsw ipad app from @madebymany: http://...   \n",
       "15  haha, awesomely rad iPad app by @madebymany ht...   \n",
       "16  Holler Gram for iPad on the iTunes App Store -...   \n",
       "17  I just noticed DST is coming this weekend. How...   \n",
       "18  Just added my #SXSW flights to @planely. Match...   \n",
       "19  Must have #SXSW app! RT @malbonster: Lovely re...   \n",
       "20  Need to buy an iPad2 while I'm in Austin at #s...   \n",
       "21  Oh. My. God. The #SXSW app for iPad is pure, u...   \n",
       "22  Okay, this is really it: yay new @Foursquare f...   \n",
       "23  Photo: Just installed the #SXSW iPhone app, wh...   \n",
       "24  Really enjoying the changes in Gowalla 3.0 for...   \n",
       "25  RT @LaurieShook: I'm looking forward to the #S...   \n",
       "26  RT haha, awesomely rad iPad app by @madebymany...   \n",
       "27  someone started an #austin @PartnerHub group i...   \n",
       "28  The new #4sq3 looks like it is going to rock. ...   \n",
       "29  They were right, the @gowalla 3 app on #androi...   \n",
       "30  Very smart from @madebymany #hollergram iPad a...   \n",
       "31  You must have this app for your iPad if you ar...   \n",
       "32  Attn: All  #SXSW frineds, @mention Register fo...   \n",
       "33      Anyone at  #sxsw want to sell their old iPad?   \n",
       "34  Anyone at  #SXSW who bought the new iPad want ...   \n",
       "35  At #sxsw.  Oooh. RT @mention Google to Launch ...   \n",
       "36  The best!  RT @mention Ha! First in line for #...   \n",
       "37  SPIN Play - a new concept in music discovery f...   \n",
       "38  @mention  - False Alarm: Google Circles Not Co...   \n",
       "39  VatorNews - Google And Apple Force Print Media...   \n",
       "40  @mention  - Great weather to greet you for #sx...   \n",
       "41  HootSuite - HootSuite Mobile for #SXSW ~ Updat...   \n",
       "42  Hey #SXSW - How long do you think it takes us ...   \n",
       "43  Mashable! - The iPad 2 Takes Over SXSW [VIDEO]...   \n",
       "44  For I-Pad ?RT @mention New #UberSocial for #iP...   \n",
       "45  #IPad2 's Û÷#SmartCoverÛª Opens to Instant A...   \n",
       "46  Hand-Held Û÷HoboÛª: Drafthouse launches Û÷H...   \n",
       "47  HOORAY RT ÛÏ@mention Apple Is Opening A Pop-U...   \n",
       "48  Orly....? ÛÏ@mention Google set to launch new...   \n",
       "49  wooooo!!! ÛÏ@mention Apple store downtown Aus...   \n",
       "\n",
       "    emotion_in_tweet_is_directed_at  \\\n",
       "0                            iPhone   \n",
       "1                iPad or iPhone App   \n",
       "2                              iPad   \n",
       "3                iPad or iPhone App   \n",
       "4                            Google   \n",
       "5                               NaN   \n",
       "6                               NaN   \n",
       "7                           Android   \n",
       "8                iPad or iPhone App   \n",
       "9                             Apple   \n",
       "10                          Android   \n",
       "11                      Android App   \n",
       "12                      Android App   \n",
       "13  Other Google product or service   \n",
       "14               iPad or iPhone App   \n",
       "15               iPad or iPhone App   \n",
       "16                              NaN   \n",
       "17                           iPhone   \n",
       "18               iPad or iPhone App   \n",
       "19               iPad or iPhone App   \n",
       "20                             iPad   \n",
       "21               iPad or iPhone App   \n",
       "22                      Android App   \n",
       "23               iPad or iPhone App   \n",
       "24                      Android App   \n",
       "25                             iPad   \n",
       "26               iPad or iPhone App   \n",
       "27  Other Google product or service   \n",
       "28               iPad or iPhone App   \n",
       "29                      Android App   \n",
       "30               iPad or iPhone App   \n",
       "31               iPad or iPhone App   \n",
       "32                              NaN   \n",
       "33                              NaN   \n",
       "34                              NaN   \n",
       "35                              NaN   \n",
       "36                             iPad   \n",
       "37                              NaN   \n",
       "38                           Google   \n",
       "39                              NaN   \n",
       "40                            Apple   \n",
       "41                              NaN   \n",
       "42                              NaN   \n",
       "43                              NaN   \n",
       "44                              NaN   \n",
       "45               iPad or iPhone App   \n",
       "46                              NaN   \n",
       "47                            Apple   \n",
       "48                              NaN   \n",
       "49                            Apple   \n",
       "\n",
       "   is_there_an_emotion_directed_at_a_brand_or_product emotion  \n",
       "0                                    Negative emotion     neg  \n",
       "1                                    Positive emotion     pos  \n",
       "2                                    Positive emotion     pos  \n",
       "3                                    Negative emotion     pos  \n",
       "4                                    Positive emotion     pos  \n",
       "5                  No emotion toward brand or product     neg  \n",
       "6                  No emotion toward brand or product     pos  \n",
       "7                                    Positive emotion     neg  \n",
       "8                                    Positive emotion     pos  \n",
       "9                                    Positive emotion     pos  \n",
       "10                                   Positive emotion     pos  \n",
       "11                                   Positive emotion     pos  \n",
       "12                                   Positive emotion     pos  \n",
       "13                                   Positive emotion     pos  \n",
       "14                                   Positive emotion     pos  \n",
       "15                                   Positive emotion     pos  \n",
       "16                 No emotion toward brand or product     pos  \n",
       "17                                   Negative emotion     pos  \n",
       "18                                   Positive emotion     pos  \n",
       "19                                   Positive emotion     neg  \n",
       "20                                   Positive emotion     pos  \n",
       "21                                   Positive emotion     pos  \n",
       "22                                   Positive emotion     pos  \n",
       "23                                   Positive emotion     pos  \n",
       "24                                   Positive emotion     neg  \n",
       "25                                   Positive emotion     neg  \n",
       "26                                   Positive emotion     pos  \n",
       "27                                   Positive emotion     pos  \n",
       "28                                   Positive emotion     neg  \n",
       "29                                   Positive emotion     pos  \n",
       "30                                   Positive emotion     pos  \n",
       "31                                   Positive emotion     pos  \n",
       "32                 No emotion toward brand or product     neg  \n",
       "33                 No emotion toward brand or product     neg  \n",
       "34                 No emotion toward brand or product     pos  \n",
       "35                 No emotion toward brand or product     neg  \n",
       "36                                   Positive emotion     neg  \n",
       "37                 No emotion toward brand or product     pos  \n",
       "38                                   Negative emotion     pos  \n",
       "39                 No emotion toward brand or product     pos  \n",
       "40                                   Positive emotion     neg  \n",
       "41                 No emotion toward brand or product     neg  \n",
       "42                 No emotion toward brand or product     neg  \n",
       "43                 No emotion toward brand or product     pos  \n",
       "44                 No emotion toward brand or product     pos  \n",
       "45                                   Positive emotion     pos  \n",
       "46                                   Positive emotion     neg  \n",
       "47                                   Positive emotion     pos  \n",
       "48                 No emotion toward brand or product     pos  \n",
       "49                                   Positive emotion     pos  "
      ]
     },
     "execution_count": 329,
     "metadata": {},
     "output_type": "execute_result"
    }
   ],
   "source": [
    "df.head(50)"
   ]
  },
  {
   "cell_type": "code",
   "execution_count": 330,
   "metadata": {},
   "outputs": [
    {
     "data": {
      "text/plain": [
       "'#SXSW is just starting, #CTIA is around the corner and #googleio is only a hop skip and a jump from there, good time to be an #android fan'"
      ]
     },
     "execution_count": 330,
     "metadata": {},
     "output_type": "execute_result"
    }
   ],
   "source": [
    "df['tweet_text'][7]"
   ]
  },
  {
   "cell_type": "code",
   "execution_count": 331,
   "metadata": {},
   "outputs": [],
   "source": [
    "df[\"emotion_in_tweet_is_directed_at\"].fillna(\"none\", inplace = True)\n",
    "  \n"
   ]
  },
  {
   "cell_type": "code",
   "execution_count": 332,
   "metadata": {},
   "outputs": [
    {
     "data": {
      "text/html": [
       "<div>\n",
       "<style scoped>\n",
       "    .dataframe tbody tr th:only-of-type {\n",
       "        vertical-align: middle;\n",
       "    }\n",
       "\n",
       "    .dataframe tbody tr th {\n",
       "        vertical-align: top;\n",
       "    }\n",
       "\n",
       "    .dataframe thead th {\n",
       "        text-align: right;\n",
       "    }\n",
       "</style>\n",
       "<table border=\"1\" class=\"dataframe\">\n",
       "  <thead>\n",
       "    <tr style=\"text-align: right;\">\n",
       "      <th></th>\n",
       "      <th>tweet_text</th>\n",
       "      <th>emotion_in_tweet_is_directed_at</th>\n",
       "      <th>is_there_an_emotion_directed_at_a_brand_or_product</th>\n",
       "      <th>emotion</th>\n",
       "    </tr>\n",
       "  </thead>\n",
       "  <tbody>\n",
       "    <tr>\n",
       "      <th>5</th>\n",
       "      <td>@teachntech00 New iPad Apps For #SpeechTherapy...</td>\n",
       "      <td>none</td>\n",
       "      <td>No emotion toward brand or product</td>\n",
       "      <td>neg</td>\n",
       "    </tr>\n",
       "    <tr>\n",
       "      <th>6</th>\n",
       "      <td>nan</td>\n",
       "      <td>none</td>\n",
       "      <td>No emotion toward brand or product</td>\n",
       "      <td>pos</td>\n",
       "    </tr>\n",
       "    <tr>\n",
       "      <th>16</th>\n",
       "      <td>Holler Gram for iPad on the iTunes App Store -...</td>\n",
       "      <td>none</td>\n",
       "      <td>No emotion toward brand or product</td>\n",
       "      <td>pos</td>\n",
       "    </tr>\n",
       "    <tr>\n",
       "      <th>32</th>\n",
       "      <td>Attn: All  #SXSW frineds, @mention Register fo...</td>\n",
       "      <td>none</td>\n",
       "      <td>No emotion toward brand or product</td>\n",
       "      <td>neg</td>\n",
       "    </tr>\n",
       "    <tr>\n",
       "      <th>33</th>\n",
       "      <td>Anyone at  #sxsw want to sell their old iPad?</td>\n",
       "      <td>none</td>\n",
       "      <td>No emotion toward brand or product</td>\n",
       "      <td>neg</td>\n",
       "    </tr>\n",
       "    <tr>\n",
       "      <th>...</th>\n",
       "      <td>...</td>\n",
       "      <td>...</td>\n",
       "      <td>...</td>\n",
       "      <td>...</td>\n",
       "    </tr>\n",
       "    <tr>\n",
       "      <th>9087</th>\n",
       "      <td>@mention Yup, but I don't have a third app yet...</td>\n",
       "      <td>none</td>\n",
       "      <td>No emotion toward brand or product</td>\n",
       "      <td>neg</td>\n",
       "    </tr>\n",
       "    <tr>\n",
       "      <th>9089</th>\n",
       "      <td>Wave, buzz... RT @mention We interrupt your re...</td>\n",
       "      <td>none</td>\n",
       "      <td>No emotion toward brand or product</td>\n",
       "      <td>pos</td>\n",
       "    </tr>\n",
       "    <tr>\n",
       "      <th>9090</th>\n",
       "      <td>Google's Zeiger, a physician never reported po...</td>\n",
       "      <td>none</td>\n",
       "      <td>No emotion toward brand or product</td>\n",
       "      <td>neg</td>\n",
       "    </tr>\n",
       "    <tr>\n",
       "      <th>9091</th>\n",
       "      <td>Some Verizon iPhone customers complained their...</td>\n",
       "      <td>none</td>\n",
       "      <td>No emotion toward brand or product</td>\n",
       "      <td>neg</td>\n",
       "    </tr>\n",
       "    <tr>\n",
       "      <th>9092</th>\n",
       "      <td>Ï¡Ïàü_ÊÎÒ£Áââ_£â_ÛâRT @...</td>\n",
       "      <td>none</td>\n",
       "      <td>No emotion toward brand or product</td>\n",
       "      <td>neg</td>\n",
       "    </tr>\n",
       "  </tbody>\n",
       "</table>\n",
       "<p>5802 rows × 4 columns</p>\n",
       "</div>"
      ],
      "text/plain": [
       "                                             tweet_text  \\\n",
       "5     @teachntech00 New iPad Apps For #SpeechTherapy...   \n",
       "6                                                   nan   \n",
       "16    Holler Gram for iPad on the iTunes App Store -...   \n",
       "32    Attn: All  #SXSW frineds, @mention Register fo...   \n",
       "33        Anyone at  #sxsw want to sell their old iPad?   \n",
       "...                                                 ...   \n",
       "9087  @mention Yup, but I don't have a third app yet...   \n",
       "9089  Wave, buzz... RT @mention We interrupt your re...   \n",
       "9090  Google's Zeiger, a physician never reported po...   \n",
       "9091  Some Verizon iPhone customers complained their...   \n",
       "9092  Ï¡Ïàü_ÊÎÒ£Áââ_£â_ÛâRT @...   \n",
       "\n",
       "     emotion_in_tweet_is_directed_at  \\\n",
       "5                               none   \n",
       "6                               none   \n",
       "16                              none   \n",
       "32                              none   \n",
       "33                              none   \n",
       "...                              ...   \n",
       "9087                            none   \n",
       "9089                            none   \n",
       "9090                            none   \n",
       "9091                            none   \n",
       "9092                            none   \n",
       "\n",
       "     is_there_an_emotion_directed_at_a_brand_or_product emotion  \n",
       "5                    No emotion toward brand or product     neg  \n",
       "6                    No emotion toward brand or product     pos  \n",
       "16                   No emotion toward brand or product     pos  \n",
       "32                   No emotion toward brand or product     neg  \n",
       "33                   No emotion toward brand or product     neg  \n",
       "...                                                 ...     ...  \n",
       "9087                 No emotion toward brand or product     neg  \n",
       "9089                 No emotion toward brand or product     pos  \n",
       "9090                 No emotion toward brand or product     neg  \n",
       "9091                 No emotion toward brand or product     neg  \n",
       "9092                 No emotion toward brand or product     neg  \n",
       "\n",
       "[5802 rows x 4 columns]"
      ]
     },
     "execution_count": 332,
     "metadata": {},
     "output_type": "execute_result"
    }
   ],
   "source": [
    "df_none = df.loc[df[\"emotion_in_tweet_is_directed_at\"] == 'none']\n",
    "df_none"
   ]
  },
  {
   "cell_type": "code",
   "execution_count": 333,
   "metadata": {},
   "outputs": [
    {
     "name": "stderr",
     "output_type": "stream",
     "text": [
      "/Users/serajkhazei/opt/anaconda3/envs/learn-env/lib/python3.8/site-packages/pandas/core/series.py:4563: SettingWithCopyWarning: \n",
      "A value is trying to be set on a copy of a slice from a DataFrame\n",
      "\n",
      "See the caveats in the documentation: https://pandas.pydata.org/pandas-docs/stable/user_guide/indexing.html#returning-a-view-versus-a-copy\n",
      "  return super().replace(\n"
     ]
    }
   ],
   "source": [
    "Apple_fill = df_none[df_none['tweet_text'].str.contains(\"Apple\")]\n",
    "\n",
    "Apple_fill['emotion_in_tweet_is_directed_at'].replace({'none': 'Apple'}, inplace=True)\n",
    "\n",
    "df_none = Apple_fill.combine_first(df_none)"
   ]
  },
  {
   "cell_type": "code",
   "execution_count": 334,
   "metadata": {},
   "outputs": [],
   "source": [
    "Google_fill = df_none[df_none['tweet_text'].str.contains(\"Google\")]\n",
    "\n",
    "Google_fill['emotion_in_tweet_is_directed_at'].replace({'none': 'Google'}, inplace=True)\n",
    "\n",
    "df_none = Google_fill.combine_first(df_none)"
   ]
  },
  {
   "cell_type": "code",
   "execution_count": 335,
   "metadata": {},
   "outputs": [],
   "source": [
    "Android_fill = df_none[df_none['tweet_text'].str.contains(\"Android\")]\n",
    "\n",
    "Android_fill['emotion_in_tweet_is_directed_at'].replace({'none': 'Android'}, inplace=True)\n",
    "\n",
    "df_none = Android_fill.combine_first(df_none)"
   ]
  },
  {
   "cell_type": "code",
   "execution_count": 336,
   "metadata": {},
   "outputs": [],
   "source": [
    "iphone_fill = df_none[df_none['tweet_text'].str.contains('iphone')]\n",
    "\n",
    "iphone_fill['emotion_in_tweet_is_directed_at'].replace({'none': 'Apple'}, inplace=True)\n",
    "\n",
    "df_none = iphone_fill.combine_first(df_none)"
   ]
  },
  {
   "cell_type": "code",
   "execution_count": 337,
   "metadata": {},
   "outputs": [],
   "source": [
    "apple_fill = df_none[df_none['tweet_text'].str.contains('apple')]\n",
    "\n",
    "apple_fill['emotion_in_tweet_is_directed_at'].replace({'none': 'Apple'}, inplace=True)\n",
    "\n",
    "df_none = apple_fill.combine_first(df_none)"
   ]
  },
  {
   "cell_type": "code",
   "execution_count": 338,
   "metadata": {},
   "outputs": [],
   "source": [
    "ipad_fill = df_none[df_none['tweet_text'].str.contains('ipad')]\n",
    "\n",
    "ipad_fill['emotion_in_tweet_is_directed_at'].replace({'none': 'Apple'}, inplace=True)\n",
    "\n",
    "df_none = ipad_fill.combine_first(df_none)"
   ]
  },
  {
   "cell_type": "code",
   "execution_count": 339,
   "metadata": {},
   "outputs": [],
   "source": [
    "google_fill = df_none[df_none['tweet_text'].str.contains('google')]\n",
    "\n",
    "google_fill['emotion_in_tweet_is_directed_at'].replace({'none': 'Google'}, inplace=True)\n",
    "\n",
    "df_none = google_fill.combine_first(df_none)"
   ]
  },
  {
   "cell_type": "code",
   "execution_count": 340,
   "metadata": {},
   "outputs": [],
   "source": [
    "android_fill = df_none[df_none['tweet_text'].str.contains('android')]\n",
    "\n",
    "android_fill['emotion_in_tweet_is_directed_at'].replace({'none': 'Android'}, inplace=True)\n",
    "\n",
    "df_none = android_fill.combine_first(df_none)"
   ]
  },
  {
   "cell_type": "code",
   "execution_count": 341,
   "metadata": {},
   "outputs": [],
   "source": [
    "ipad2_fill = df_none[df_none['tweet_text'].str.contains('ipad2')]\n",
    "\n",
    "ipad2_fill['emotion_in_tweet_is_directed_at'].replace({'none': 'Apple'}, inplace=True)\n",
    "\n",
    "df_none = ipad2_fill.combine_first(df_none)"
   ]
  },
  {
   "cell_type": "code",
   "execution_count": 342,
   "metadata": {},
   "outputs": [],
   "source": [
    "iPad2_fill = df_none[df_none['tweet_text'].str.contains('iPad 2')]\n",
    "\n",
    "iPad2_fill['emotion_in_tweet_is_directed_at'].replace({'none': 'Apple'}, inplace=True)\n",
    "\n",
    "df_none = iPad2_fill.combine_first(df_none)"
   ]
  },
  {
   "cell_type": "code",
   "execution_count": 343,
   "metadata": {},
   "outputs": [],
   "source": [
    "df_1 = df_none.combine_first(df)"
   ]
  },
  {
   "cell_type": "code",
   "execution_count": 344,
   "metadata": {},
   "outputs": [],
   "source": [
    "change_ipad = df_1[df_1['emotion_in_tweet_is_directed_at'].str.contains('iPad')]\n",
    "\n",
    "change_ipad['emotion_in_tweet_is_directed_at'].replace({'iPad': 'Apple'}, inplace=True)\n",
    "\n",
    "df_1 = change_ipad.combine_first(df_1)"
   ]
  },
  {
   "cell_type": "code",
   "execution_count": 345,
   "metadata": {},
   "outputs": [],
   "source": [
    "change_i = df_1[df_1['emotion_in_tweet_is_directed_at'].str.contains('iPad or iPhone App')]\n",
    "\n",
    "change_i['emotion_in_tweet_is_directed_at'].replace({'iPad or iPhone App': 'Apple'}, inplace=True)\n",
    "\n",
    "df_1 = change_i.combine_first(df_1)"
   ]
  },
  {
   "cell_type": "code",
   "execution_count": 346,
   "metadata": {},
   "outputs": [],
   "source": [
    "change_ip = df_1[df_1['emotion_in_tweet_is_directed_at'].str.contains('iPhone')]\n",
    "\n",
    "change_ip['emotion_in_tweet_is_directed_at'].replace({'iPhone': 'Apple'}, inplace=True)\n",
    "\n",
    "df_1 = change_ip.combine_first(df_1)"
   ]
  },
  {
   "cell_type": "code",
   "execution_count": 347,
   "metadata": {},
   "outputs": [],
   "source": [
    "change_g = df_1[df_1['emotion_in_tweet_is_directed_at'].str.contains('Other Google product or service')]\n",
    "\n",
    "change_g['emotion_in_tweet_is_directed_at'].replace({'Other Google product or service': 'Google'}, inplace=True)\n",
    "\n",
    "df_1 = change_g.combine_first(df_1)"
   ]
  },
  {
   "cell_type": "code",
   "execution_count": 348,
   "metadata": {},
   "outputs": [],
   "source": [
    "change_aa = df_1[df_1['emotion_in_tweet_is_directed_at'].str.contains('Android App')]\n",
    "\n",
    "change_aa['emotion_in_tweet_is_directed_at'].replace({'Android App': 'Android'}, inplace=True)\n",
    "\n",
    "df_1 = change_aa.combine_first(df_1)"
   ]
  },
  {
   "cell_type": "code",
   "execution_count": 349,
   "metadata": {},
   "outputs": [],
   "source": [
    "change_ap = df_1[df_1['emotion_in_tweet_is_directed_at'].str.contains('Other Apple product or service')]\n",
    "\n",
    "change_ap['emotion_in_tweet_is_directed_at'].replace({'Other Apple product or service': 'Apple'}, inplace=True)\n",
    "\n",
    "df_1 = change_ap.combine_first(df_1)"
   ]
  },
  {
   "cell_type": "code",
   "execution_count": 351,
   "metadata": {},
   "outputs": [
    {
     "data": {
      "text/html": [
       "<div>\n",
       "<style scoped>\n",
       "    .dataframe tbody tr th:only-of-type {\n",
       "        vertical-align: middle;\n",
       "    }\n",
       "\n",
       "    .dataframe tbody tr th {\n",
       "        vertical-align: top;\n",
       "    }\n",
       "\n",
       "    .dataframe thead th {\n",
       "        text-align: right;\n",
       "    }\n",
       "</style>\n",
       "<table border=\"1\" class=\"dataframe\">\n",
       "  <thead>\n",
       "    <tr style=\"text-align: right;\">\n",
       "      <th></th>\n",
       "      <th>tweet_text</th>\n",
       "      <th>emotion_in_tweet_is_directed_at</th>\n",
       "      <th>is_there_an_emotion_directed_at_a_brand_or_product</th>\n",
       "      <th>emotion</th>\n",
       "    </tr>\n",
       "  </thead>\n",
       "  <tbody>\n",
       "    <tr>\n",
       "      <th>0</th>\n",
       "      <td>.@wesley83 I have a 3G iPhone. After 3 hrs twe...</td>\n",
       "      <td>Apple</td>\n",
       "      <td>Negative emotion</td>\n",
       "      <td>neg</td>\n",
       "    </tr>\n",
       "    <tr>\n",
       "      <th>1</th>\n",
       "      <td>@jessedee Know about @fludapp ? Awesome iPad/i...</td>\n",
       "      <td>Apple</td>\n",
       "      <td>Positive emotion</td>\n",
       "      <td>pos</td>\n",
       "    </tr>\n",
       "    <tr>\n",
       "      <th>2</th>\n",
       "      <td>@swonderlin Can not wait for #iPad 2 also. The...</td>\n",
       "      <td>Apple</td>\n",
       "      <td>Positive emotion</td>\n",
       "      <td>pos</td>\n",
       "    </tr>\n",
       "    <tr>\n",
       "      <th>3</th>\n",
       "      <td>@sxsw I hope this year's festival isn't as cra...</td>\n",
       "      <td>Apple</td>\n",
       "      <td>Negative emotion</td>\n",
       "      <td>pos</td>\n",
       "    </tr>\n",
       "    <tr>\n",
       "      <th>4</th>\n",
       "      <td>@sxtxstate great stuff on Fri #SXSW: Marissa M...</td>\n",
       "      <td>Google</td>\n",
       "      <td>Positive emotion</td>\n",
       "      <td>pos</td>\n",
       "    </tr>\n",
       "    <tr>\n",
       "      <th>...</th>\n",
       "      <td>...</td>\n",
       "      <td>...</td>\n",
       "      <td>...</td>\n",
       "      <td>...</td>\n",
       "    </tr>\n",
       "    <tr>\n",
       "      <th>9088</th>\n",
       "      <td>Ipad everywhere. #SXSW {link}</td>\n",
       "      <td>Apple</td>\n",
       "      <td>Positive emotion</td>\n",
       "      <td>neg</td>\n",
       "    </tr>\n",
       "    <tr>\n",
       "      <th>9089</th>\n",
       "      <td>Wave, buzz... RT @mention We interrupt your re...</td>\n",
       "      <td>Google</td>\n",
       "      <td>No emotion toward brand or product</td>\n",
       "      <td>pos</td>\n",
       "    </tr>\n",
       "    <tr>\n",
       "      <th>9090</th>\n",
       "      <td>Google's Zeiger, a physician never reported po...</td>\n",
       "      <td>Google</td>\n",
       "      <td>No emotion toward brand or product</td>\n",
       "      <td>neg</td>\n",
       "    </tr>\n",
       "    <tr>\n",
       "      <th>9091</th>\n",
       "      <td>Some Verizon iPhone customers complained their...</td>\n",
       "      <td>none</td>\n",
       "      <td>No emotion toward brand or product</td>\n",
       "      <td>neg</td>\n",
       "    </tr>\n",
       "    <tr>\n",
       "      <th>9092</th>\n",
       "      <td>Ï¡Ïàü_ÊÎÒ£Áââ_£â_ÛâRT @...</td>\n",
       "      <td>Google</td>\n",
       "      <td>No emotion toward brand or product</td>\n",
       "      <td>neg</td>\n",
       "    </tr>\n",
       "  </tbody>\n",
       "</table>\n",
       "<p>9093 rows × 4 columns</p>\n",
       "</div>"
      ],
      "text/plain": [
       "                                             tweet_text  \\\n",
       "0     .@wesley83 I have a 3G iPhone. After 3 hrs twe...   \n",
       "1     @jessedee Know about @fludapp ? Awesome iPad/i...   \n",
       "2     @swonderlin Can not wait for #iPad 2 also. The...   \n",
       "3     @sxsw I hope this year's festival isn't as cra...   \n",
       "4     @sxtxstate great stuff on Fri #SXSW: Marissa M...   \n",
       "...                                                 ...   \n",
       "9088                      Ipad everywhere. #SXSW {link}   \n",
       "9089  Wave, buzz... RT @mention We interrupt your re...   \n",
       "9090  Google's Zeiger, a physician never reported po...   \n",
       "9091  Some Verizon iPhone customers complained their...   \n",
       "9092  Ï¡Ïàü_ÊÎÒ£Áââ_£â_ÛâRT @...   \n",
       "\n",
       "     emotion_in_tweet_is_directed_at  \\\n",
       "0                              Apple   \n",
       "1                              Apple   \n",
       "2                              Apple   \n",
       "3                              Apple   \n",
       "4                             Google   \n",
       "...                              ...   \n",
       "9088                           Apple   \n",
       "9089                          Google   \n",
       "9090                          Google   \n",
       "9091                            none   \n",
       "9092                          Google   \n",
       "\n",
       "     is_there_an_emotion_directed_at_a_brand_or_product emotion  \n",
       "0                                      Negative emotion     neg  \n",
       "1                                      Positive emotion     pos  \n",
       "2                                      Positive emotion     pos  \n",
       "3                                      Negative emotion     pos  \n",
       "4                                      Positive emotion     pos  \n",
       "...                                                 ...     ...  \n",
       "9088                                   Positive emotion     neg  \n",
       "9089                 No emotion toward brand or product     pos  \n",
       "9090                 No emotion toward brand or product     neg  \n",
       "9091                 No emotion toward brand or product     neg  \n",
       "9092                 No emotion toward brand or product     neg  \n",
       "\n",
       "[9093 rows x 4 columns]"
      ]
     },
     "execution_count": 351,
     "metadata": {},
     "output_type": "execute_result"
    }
   ],
   "source": [
    "df_1"
   ]
  },
  {
   "cell_type": "code",
   "execution_count": 355,
   "metadata": {},
   "outputs": [
    {
     "name": "stderr",
     "output_type": "stream",
     "text": [
      "/Users/serajkhazei/opt/anaconda3/envs/learn-env/lib/python3.8/site-packages/pandas/core/series.py:4563: SettingWithCopyWarning: \n",
      "A value is trying to be set on a copy of a slice from a DataFrame\n",
      "\n",
      "See the caveats in the documentation: https://pandas.pydata.org/pandas-docs/stable/user_guide/indexing.html#returning-a-view-versus-a-copy\n",
      "  return super().replace(\n"
     ]
    }
   ],
   "source": [
    "ipo_fill = df_1[df_1['tweet_text'].str.contains('iPhone')]\n",
    "\n",
    "ipo_fill['emotion_in_tweet_is_directed_at'].replace({'none': 'Apple'}, inplace=True)\n",
    "\n",
    "df_1 = ipo_fill.combine_first(df_1)"
   ]
  },
  {
   "cell_type": "code",
   "execution_count": 360,
   "metadata": {},
   "outputs": [
    {
     "name": "stderr",
     "output_type": "stream",
     "text": [
      "/Users/serajkhazei/opt/anaconda3/envs/learn-env/lib/python3.8/site-packages/pandas/core/series.py:4563: SettingWithCopyWarning: \n",
      "A value is trying to be set on a copy of a slice from a DataFrame\n",
      "\n",
      "See the caveats in the documentation: https://pandas.pydata.org/pandas-docs/stable/user_guide/indexing.html#returning-a-view-versus-a-copy\n",
      "  return super().replace(\n"
     ]
    }
   ],
   "source": [
    "ipa_fill = df_1[df_1['tweet_text'].str.contains('iPad')]\n",
    "\n",
    "ipa_fill['emotion_in_tweet_is_directed_at'].replace({'none': 'Apple'}, inplace=True)\n",
    "\n",
    "df_1 = ipa_fill.combine_first(df_1)"
   ]
  },
  {
   "cell_type": "code",
   "execution_count": 361,
   "metadata": {},
   "outputs": [
    {
     "data": {
      "text/plain": [
       "Apple      5344\n",
       "Google     2435\n",
       "none        815\n",
       "Android     499\n",
       "Name: emotion_in_tweet_is_directed_at, dtype: int64"
      ]
     },
     "execution_count": 361,
     "metadata": {},
     "output_type": "execute_result"
    }
   ],
   "source": [
    "df_1['emotion_in_tweet_is_directed_at'].value_counts()"
   ]
  },
  {
   "cell_type": "code",
   "execution_count": 363,
   "metadata": {},
   "outputs": [],
   "source": [
    "x = df_1.loc[df_1['emotion_in_tweet_is_directed_at'] == 'none']"
   ]
  },
  {
   "cell_type": "code",
   "execution_count": 375,
   "metadata": {},
   "outputs": [
    {
     "data": {
      "text/plain": [
       "6                                                    nan\n",
       "51     ÛÏ@mention {link} &lt;-- HELP ME FORWARD THIS...\n",
       "52     ÷¼ WHAT? ÷_ {link} ã_ #edchat #musedchat #s...\n",
       "53     .@mention @mention on the location-based 'fast...\n",
       "65     Agree. RT @mention Wait. FIONA APPLE is in tow...\n",
       "66     At #sxsw? @mention / @mention wanna buy you a ...\n",
       "71     Chilcott: @mention #SXSW stand talking with Bl...\n",
       "73     Gowalla's @mention promises to launch Foursqua...\n",
       "77                       I worship @mention {link} #SXSW\n",
       "79     Launching @mention #SxSW? RT @mention @mention...\n",
       "85     Stay tune @mention showcase #H4ckers {link} #SXSW\n",
       "86     Thank you @mention @mention for the #touchings...\n",
       "87     Thank you @mention for an awesome #sxsw party!...\n",
       "88     Thanks RT @mention If you're trying to contact...\n",
       "90     Thanks to @mention for publishing the news of ...\n",
       "91     Thanks to @mention for publishing the news of ...\n",
       "94     Wonder if @mention is putting tips from the @m...\n",
       "97     Yes!!! RT @mention hey @mention , i've got ano...\n",
       "122    Headed to #Austin for #SXSW? Check out my map ...\n",
       "130    For those #notatSXSW (or at #SXSW), here's {li...\n",
       "158    More free #SXSW mp3 downloads, this time from ...\n",
       "162                        Essential #sxsw tools: {link}\n",
       "169    Attending #sxsw? Austin Guide by @mention is n...\n",
       "175    Hey #sxsw #sxswi folks. If you want to learn a...\n",
       "184    .@mention 1154 free songs from #SXSW (this yea...\n",
       "188    ÷¼ We love 2 entertain youÛ_Please donÛªt b...\n",
       "204    Check out 5 Steps to Bulletproof UX Strategy a...\n",
       "232    Spent the aftrnoon on a frozen lake photograph...\n",
       "313    ÛÏ@mention Are you Stupid? Find it out at the...\n",
       "320    If I were at #SXSW I could spend it all at the...\n",
       "321    If you're at #SXSW : meet us at Fado. We will ...\n",
       "342    Posted up at the DMI House, Intimate Stranger ...\n",
       "355    Racing to ballroom D to see @mention Marissa M...\n",
       "387    If anyone can make it cooler, they can. RT @me...\n",
       "394    Remember, chime in with tweets about your #nas...\n",
       "409    wishes he could be at the @mention / @mention ...\n",
       "411    Check out Coyne PR updates from #sxsw {link} v...\n",
       "423    Trying to decide what session to attend at #sx...\n",
       "438    I'm not a developer, but awesome name for the ...\n",
       "447    At #SXSW? Don't forget to come to the #privacy...\n",
       "448    At #SXSW? Don't forget to come to the #privacy...\n",
       "451    ÛÏ@mention Download 20+ FREE tracks from the ...\n",
       "452    ÛÏ@mention Download 20+ FREE tracks from the ...\n",
       "453    ÛÏ@mention Download 20+ FREE tracks from the ...\n",
       "454    ÛÏ@mention DownloadFREE tracks from the #SXSW...\n",
       "458    @mention  Enjoy #Sxsw and ride anywhere in Aus...\n",
       "459    @mention  Enjoy #Sxsw and ride anywhere in Aus...\n",
       "484    Thanks to everyone for making it a great day i...\n",
       "497    Get #SXSW film red carpet coverage from @menti...\n",
       "507    Hey #SXSW folks: free lunch from La Condesa at...\n",
       "Name: tweet_text, dtype: object"
      ]
     },
     "execution_count": 375,
     "metadata": {},
     "output_type": "execute_result"
    }
   ],
   "source": [
    "x['tweet_text'].head(50)"
   ]
  },
  {
   "cell_type": "code",
   "execution_count": 382,
   "metadata": {},
   "outputs": [
    {
     "data": {
      "text/plain": [
       "'\\x89÷¼ We love 2 entertain you\\x89Û_Please don\\x89Ûªt be grateful! \\x89÷_ {link} \\x89ã_ #edchat #musedchat #sxsw #sxswi #classical #newTwitter'"
      ]
     },
     "execution_count": 382,
     "metadata": {},
     "output_type": "execute_result"
    }
   ],
   "source": [
    "x['tweet_text'][188]"
   ]
  },
  {
   "cell_type": "code",
   "execution_count": 383,
   "metadata": {},
   "outputs": [
    {
     "data": {
      "text/html": [
       "<div>\n",
       "<style scoped>\n",
       "    .dataframe tbody tr th:only-of-type {\n",
       "        vertical-align: middle;\n",
       "    }\n",
       "\n",
       "    .dataframe tbody tr th {\n",
       "        vertical-align: top;\n",
       "    }\n",
       "\n",
       "    .dataframe thead th {\n",
       "        text-align: right;\n",
       "    }\n",
       "</style>\n",
       "<table border=\"1\" class=\"dataframe\">\n",
       "  <thead>\n",
       "    <tr style=\"text-align: right;\">\n",
       "      <th></th>\n",
       "      <th>tweet_text</th>\n",
       "      <th>emotion_in_tweet_is_directed_at</th>\n",
       "      <th>is_there_an_emotion_directed_at_a_brand_or_product</th>\n",
       "      <th>emotion</th>\n",
       "    </tr>\n",
       "  </thead>\n",
       "  <tbody>\n",
       "    <tr>\n",
       "      <th>0</th>\n",
       "      <td>.@wesley83 I have a 3G iPhone. After 3 hrs twe...</td>\n",
       "      <td>Apple</td>\n",
       "      <td>Negative emotion</td>\n",
       "      <td>neg</td>\n",
       "    </tr>\n",
       "    <tr>\n",
       "      <th>1</th>\n",
       "      <td>@jessedee Know about @fludapp ? Awesome iPad/i...</td>\n",
       "      <td>Apple</td>\n",
       "      <td>Positive emotion</td>\n",
       "      <td>pos</td>\n",
       "    </tr>\n",
       "    <tr>\n",
       "      <th>2</th>\n",
       "      <td>@swonderlin Can not wait for #iPad 2 also. The...</td>\n",
       "      <td>Apple</td>\n",
       "      <td>Positive emotion</td>\n",
       "      <td>pos</td>\n",
       "    </tr>\n",
       "    <tr>\n",
       "      <th>3</th>\n",
       "      <td>@sxsw I hope this year's festival isn't as cra...</td>\n",
       "      <td>Apple</td>\n",
       "      <td>Negative emotion</td>\n",
       "      <td>pos</td>\n",
       "    </tr>\n",
       "    <tr>\n",
       "      <th>4</th>\n",
       "      <td>@sxtxstate great stuff on Fri #SXSW: Marissa M...</td>\n",
       "      <td>Google</td>\n",
       "      <td>Positive emotion</td>\n",
       "      <td>pos</td>\n",
       "    </tr>\n",
       "    <tr>\n",
       "      <th>...</th>\n",
       "      <td>...</td>\n",
       "      <td>...</td>\n",
       "      <td>...</td>\n",
       "      <td>...</td>\n",
       "    </tr>\n",
       "    <tr>\n",
       "      <th>9088</th>\n",
       "      <td>Ipad everywhere. #SXSW {link}</td>\n",
       "      <td>Apple</td>\n",
       "      <td>Positive emotion</td>\n",
       "      <td>neg</td>\n",
       "    </tr>\n",
       "    <tr>\n",
       "      <th>9089</th>\n",
       "      <td>Wave, buzz... RT @mention We interrupt your re...</td>\n",
       "      <td>Google</td>\n",
       "      <td>No emotion toward brand or product</td>\n",
       "      <td>pos</td>\n",
       "    </tr>\n",
       "    <tr>\n",
       "      <th>9090</th>\n",
       "      <td>Google's Zeiger, a physician never reported po...</td>\n",
       "      <td>Google</td>\n",
       "      <td>No emotion toward brand or product</td>\n",
       "      <td>neg</td>\n",
       "    </tr>\n",
       "    <tr>\n",
       "      <th>9091</th>\n",
       "      <td>Some Verizon iPhone customers complained their...</td>\n",
       "      <td>Apple</td>\n",
       "      <td>No emotion toward brand or product</td>\n",
       "      <td>neg</td>\n",
       "    </tr>\n",
       "    <tr>\n",
       "      <th>9092</th>\n",
       "      <td>Ï¡Ïàü_ÊÎÒ£Áââ_£â_ÛâRT @...</td>\n",
       "      <td>Google</td>\n",
       "      <td>No emotion toward brand or product</td>\n",
       "      <td>neg</td>\n",
       "    </tr>\n",
       "  </tbody>\n",
       "</table>\n",
       "<p>9093 rows × 4 columns</p>\n",
       "</div>"
      ],
      "text/plain": [
       "                                             tweet_text  \\\n",
       "0     .@wesley83 I have a 3G iPhone. After 3 hrs twe...   \n",
       "1     @jessedee Know about @fludapp ? Awesome iPad/i...   \n",
       "2     @swonderlin Can not wait for #iPad 2 also. The...   \n",
       "3     @sxsw I hope this year's festival isn't as cra...   \n",
       "4     @sxtxstate great stuff on Fri #SXSW: Marissa M...   \n",
       "...                                                 ...   \n",
       "9088                      Ipad everywhere. #SXSW {link}   \n",
       "9089  Wave, buzz... RT @mention We interrupt your re...   \n",
       "9090  Google's Zeiger, a physician never reported po...   \n",
       "9091  Some Verizon iPhone customers complained their...   \n",
       "9092  Ï¡Ïàü_ÊÎÒ£Áââ_£â_ÛâRT @...   \n",
       "\n",
       "     emotion_in_tweet_is_directed_at  \\\n",
       "0                              Apple   \n",
       "1                              Apple   \n",
       "2                              Apple   \n",
       "3                              Apple   \n",
       "4                             Google   \n",
       "...                              ...   \n",
       "9088                           Apple   \n",
       "9089                          Google   \n",
       "9090                          Google   \n",
       "9091                           Apple   \n",
       "9092                          Google   \n",
       "\n",
       "     is_there_an_emotion_directed_at_a_brand_or_product emotion  \n",
       "0                                      Negative emotion     neg  \n",
       "1                                      Positive emotion     pos  \n",
       "2                                      Positive emotion     pos  \n",
       "3                                      Negative emotion     pos  \n",
       "4                                      Positive emotion     pos  \n",
       "...                                                 ...     ...  \n",
       "9088                                   Positive emotion     neg  \n",
       "9089                 No emotion toward brand or product     pos  \n",
       "9090                 No emotion toward brand or product     neg  \n",
       "9091                 No emotion toward brand or product     neg  \n",
       "9092                 No emotion toward brand or product     neg  \n",
       "\n",
       "[9093 rows x 4 columns]"
      ]
     },
     "execution_count": 383,
     "metadata": {},
     "output_type": "execute_result"
    }
   ],
   "source": [
    "df_1"
   ]
  },
  {
   "cell_type": "code",
   "execution_count": 386,
   "metadata": {},
   "outputs": [],
   "source": [
    "df_1.to_csv('clean_data.csv')"
   ]
  },
  {
   "cell_type": "code",
   "execution_count": 387,
   "metadata": {},
   "outputs": [
    {
     "data": {
      "text/plain": [
       "Apple      5344\n",
       "Google     2435\n",
       "none        815\n",
       "Android     499\n",
       "Name: emotion_in_tweet_is_directed_at, dtype: int64"
      ]
     },
     "execution_count": 387,
     "metadata": {},
     "output_type": "execute_result"
    }
   ],
   "source": [
    "df_1['emotion_in_tweet_is_directed_at'].value_counts()"
   ]
  },
  {
   "cell_type": "code",
   "execution_count": null,
   "metadata": {},
   "outputs": [],
   "source": []
  }
 ],
 "metadata": {
  "kernelspec": {
   "display_name": "python3 (learnenv)",
   "language": "python",
   "name": "learn-env"
  },
  "language_info": {
   "codemirror_mode": {
    "name": "ipython",
    "version": 3
   },
   "file_extension": ".py",
   "mimetype": "text/x-python",
   "name": "python",
   "nbconvert_exporter": "python",
   "pygments_lexer": "ipython3",
   "version": "3.8.5"
  }
 },
 "nbformat": 4,
 "nbformat_minor": 4
}
